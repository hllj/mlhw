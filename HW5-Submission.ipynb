{
 "cells": [
  {
   "cell_type": "markdown",
   "metadata": {},
   "source": [
    "# Bài tập 5\n",
    "\n",
    "Bùi Văn Hợp - 1712046"
   ]
  },
  {
   "cell_type": "markdown",
   "metadata": {},
   "source": [
    "## Câu 1 (1 điểm)"
   ]
  },
  {
   "cell_type": "markdown",
   "metadata": {},
   "source": [
    "Ta có:\n",
    "\n",
    "$$\\mathbb{E}_{\\mathcal{D}}[E_{in}(\\mathbf{w}_{lin})] = \\sigma^2\\left(1 - \\frac{d+1}{N}\\right) ~~~~ (1)$$\n",
    "\n",
    "$\\sigma = 0.1, d = 8$\n",
    "\n",
    "Từ (1) ta có thể rút gọn biểu thức và đưa ra giới hạn cho N là:\n",
    "\n",
    "$$N > \\frac{d + 1}{1 - \\frac{0.008}{\\sigma^2}}$$\n",
    "\n",
    "Thay giá trị $\\sigma, d$, ta có:\n",
    "\n",
    "$$N > 45$$\n",
    "\n",
    "**Với các đáp án trong bài, mình lựa chọn đáp án nhỏ nhất và thỏa mãn là 100, c.**"
   ]
  },
  {
   "cell_type": "markdown",
   "metadata": {
    "deletable": false,
    "nbgrader": {
     "cell_type": "markdown",
     "checksum": "2e83d862b3c5fd4fb57d72c50e8115f8",
     "grade": true,
     "grade_id": "c1",
     "locked": false,
     "points": 1,
     "schema_version": 3,
     "solution": true,
     "task": false
    }
   },
   "source": [
    "YOUR ANSWER HERE c"
   ]
  },
  {
   "cell_type": "markdown",
   "metadata": {},
   "source": [
    "## Câu 2 (1 điểm)"
   ]
  },
  {
   "cell_type": "markdown",
   "metadata": {},
   "source": [
    "Với hypothesis được đưa ra bởi bài 2, đó là 1 hyperbol có dạng như sau:\n",
    "\n",
    "![hyperbola.gif](hyperbola.gif)\n",
    "\n",
    "Với 2 trục x1, x2 ta có dạng của hyperbol là:\n",
    "$$\\frac{x_1^2}{a} - \\frac{x_2^2}{b} = 1$$\n",
    "\n",
    "Hay ta có thể biến đổi về dạng:\n",
    "\n",
    "$$ax_1^2 - bx_2^2 - ab = 0 ~~~~ (1)$$\n",
    "\n",
    "Tuy nhiên với miền giá trị, biểu thức $ax_1^2 - bx_2^2 - ab > 0$ với miền giá trị sau khi giải ra là:\n",
    "\n",
    "$$x_1 > \\sqrt{a}$$ hoặc $$x_1 < \\sqrt{a}$$ với $x_2$ trong khoảng : $$\\frac{-\\sqrt{b}\\sqrt{x_1^2-a}}{\\sqrt{a}} < y < \\frac{\\sqrt{b}\\sqrt{x_1^2-a}}{\\sqrt{a}}$$\n",
    "\n",
    "Hay qua hình sau với phần màu xám là phần dương của hypothesis:\n",
    "\n",
    "![rangepositive.png](rangepositive.png)\n",
    "\n",
    "Vậy nên để chính xác với miền dữ liệu +1 và -1 trong bài 2, ta cần đảo dấu của hypothesis của (1) lại là:\n",
    "\n",
    "$$h(x) = -(ax_1^2 - bx_2^2 - ab) = -ax_1^2 + bx_2^2 + ab $$\n",
    "\n",
    "Từ $h(x)$ ta có thể biết được $w_1 < 0$ và $w_2 > 0$. Mình sẽ lựa chọn đáp án d."
   ]
  },
  {
   "cell_type": "markdown",
   "metadata": {
    "deletable": false,
    "nbgrader": {
     "cell_type": "markdown",
     "checksum": "47d4e2bb3e4812ef7b37e032a898cfec",
     "grade": true,
     "grade_id": "c2",
     "locked": false,
     "points": 1,
     "schema_version": 3,
     "solution": true,
     "task": false
    }
   },
   "source": [
    "YOUR ANSWER HERE d"
   ]
  },
  {
   "cell_type": "markdown",
   "metadata": {},
   "source": [
    "## Câu 3 (1 điểm)"
   ]
  },
  {
   "cell_type": "markdown",
   "metadata": {},
   "source": [
    "Với phép biến đổi thành các dạng đa thức bậc 4:\n",
    "\n",
    "$$\\Phi_4 = x → (1, x_1, x_2, x_1^2, x_1x_2, x_2^2, x_1^3,x_1^2x_2,x_1x_2^2, x_2^3, x_1^4, x_1^3x_2, x_1^2x_2^2, x_1x_2^3, x_2^4)$$\n",
    "\n",
    "Ta có số chiều của $\\Phi_4$ là 14 (không kể $z_0$). **Nên $d_{VC}$ của linear model với phép biến đổi phi tuyến này là 15. Đáp án c.**"
   ]
  },
  {
   "cell_type": "markdown",
   "metadata": {
    "deletable": false,
    "nbgrader": {
     "cell_type": "markdown",
     "checksum": "0997a909d9ab1f250c2bfd0645fee970",
     "grade": true,
     "grade_id": "c3",
     "locked": false,
     "points": 1,
     "schema_version": 3,
     "solution": true,
     "task": false
    }
   },
   "source": [
    "YOUR ANSWER HERE c"
   ]
  },
  {
   "cell_type": "markdown",
   "metadata": {},
   "source": [
    "## Câu 4 (1 điểm)"
   ]
  },
  {
   "cell_type": "markdown",
   "metadata": {},
   "source": [
    "Ta có hàm lỗi theo u và v là:\n",
    "\n",
    "$$E(u, v) = (ue^{v} - 2ve^{-u})^2$$\n",
    "\n",
    "Từ đây ta tính được các đạo hàm riêng theo u, v là:\n",
    "\n",
    "$$\\frac{\\partial E}{\\partial u} = 2(e^v + 2ve^{-u})(ue^v - 2ve^{-u})$$\n",
    "\n",
    "$$\\frac{\\partial E}{\\partial v} = 2(ue^v - 2e^{-u})(ue^v - 2ve^{-u})$$\n",
    "\n",
    "Đáp án mình lựa chọn cho câu 4 là e."
   ]
  },
  {
   "cell_type": "markdown",
   "metadata": {
    "deletable": false,
    "nbgrader": {
     "cell_type": "markdown",
     "checksum": "efabab5c4035a6864ac8cb3e0061c6f0",
     "grade": true,
     "grade_id": "c4",
     "locked": false,
     "points": 1,
     "schema_version": 3,
     "solution": true,
     "task": false
    }
   },
   "source": [
    "YOUR ANSWER HERE e"
   ]
  },
  {
   "cell_type": "markdown",
   "metadata": {},
   "source": [
    "## Câu 5 (1 điểm)"
   ]
  },
  {
   "cell_type": "code",
   "execution_count": 1,
   "metadata": {},
   "outputs": [],
   "source": [
    "import numpy as np"
   ]
  },
  {
   "cell_type": "code",
   "execution_count": 2,
   "metadata": {},
   "outputs": [],
   "source": [
    "def get_error(u, v):\n",
    "    return (u * np.exp(v) - 2 * v * np.exp(-u))**2\n",
    "\n",
    "def get_partial_derriviate_u(u, v):\n",
    "    return 2 * (np.exp(v) + 2 * v * np.exp(-u)) * (u * np.exp(v) - 2 * v * np.exp(-u))\n",
    "\n",
    "def get_partial_derriviate_v(u, v):\n",
    "    return 2 * (u * np.exp(v) - 2 * np.exp(-u)) * (u * np.exp(v) - 2 * v * np.exp(-u))"
   ]
  },
  {
   "cell_type": "code",
   "execution_count": 3,
   "metadata": {},
   "outputs": [
    {
     "name": "stdout",
     "output_type": "stream",
     "text": [
      "Iteration :  10\n",
      "(0.04473629039778207, 0.023958714099141746) when converged\n"
     ]
    }
   ],
   "source": [
    "u, v = 1, 1\n",
    "lr = 0.1\n",
    "iteration = 0\n",
    "\n",
    "while get_error(u,v) > 1e-14:\n",
    "    du = get_partial_derriviate_u(u, v)\n",
    "    dv = get_partial_derriviate_v(u, v)\n",
    "    u -= lr * du\n",
    "    v -= lr * dv\n",
    "    iteration += 1\n",
    "print(\"Iteration : \", iteration)\n",
    "print(\"({}, {}) when converged\".format(u, v))"
   ]
  },
  {
   "cell_type": "markdown",
   "metadata": {},
   "source": [
    "Như kết quả chạy ở trên, sau 10 vòng lặp sử dụng Gradient Descent thì độ lỗi giảm xuống dưới 1e-14. **Vậy đáp án mình chọn là d, 10.**"
   ]
  },
  {
   "cell_type": "markdown",
   "metadata": {
    "deletable": false,
    "nbgrader": {
     "cell_type": "markdown",
     "checksum": "0b484b8390bec96142e8a1213ee8cd2c",
     "grade": true,
     "grade_id": "c5",
     "locked": false,
     "points": 1,
     "schema_version": 3,
     "solution": true,
     "task": false
    }
   },
   "source": [
    "YOUR ANSWER HERE d"
   ]
  },
  {
   "cell_type": "markdown",
   "metadata": {},
   "source": [
    "## Câu 6 (1 điểm)"
   ]
  },
  {
   "cell_type": "markdown",
   "metadata": {},
   "source": [
    "(u,v) sau khi chạy chương trình là (0.04473629039778207, 0.023958714099141746).\n",
    "\n",
    "**Vậy mình lựa chọn đáp án gần với kết quả nhất là e, (0.045, 0.024).**"
   ]
  },
  {
   "cell_type": "markdown",
   "metadata": {
    "deletable": false,
    "nbgrader": {
     "cell_type": "markdown",
     "checksum": "26f542221236fb24d0ddbee584eed7d0",
     "grade": true,
     "grade_id": "c6",
     "locked": false,
     "points": 1,
     "schema_version": 3,
     "solution": true,
     "task": false
    }
   },
   "source": [
    "YOUR ANSWER HERE e"
   ]
  },
  {
   "cell_type": "markdown",
   "metadata": {},
   "source": [
    "## Câu 7 (1 điểm)"
   ]
  },
  {
   "cell_type": "code",
   "execution_count": 4,
   "metadata": {},
   "outputs": [
    {
     "name": "stdout",
     "output_type": "stream",
     "text": [
      "Error after 15 iterations with coordinate descent :  0.13981379199615315\n"
     ]
    }
   ],
   "source": [
    "u, v = 1, 1\n",
    "lr = 0.1\n",
    "\n",
    "for _ in range(15):\n",
    "    u -= lr * get_partial_derriviate_u(u, v)\n",
    "    v -= lr * get_partial_derriviate_v(u, v)\n",
    "print('Error after 15 iterations with coordinate descent : ', get_error(u, v))"
   ]
  },
  {
   "cell_type": "markdown",
   "metadata": {},
   "source": [
    "Sau khi áp dụng \"coordianate descent\" (không phải gradient descent vì chúng ta cập nhật lần lượt từng biến và thay đổi đạo hàm cho biến tiếp theo) thì ta thấy độ lỗi sau 15 lần lặp là 0.13981379199615315. **Nên kết quả mình chọn gần với nó nhất là 0.1, a.**\n",
    "\n",
    "Một giải thích cho vì sao độ lỗi của cách descent này là chúng ta cập nhật các biến liên tục trong quá trình descent làm cho việc tính vector đạo hàm không còn chính xác cho các biến cũ cập nhất trước đó, dẫn tới đây không còn cách tối ưu tốt cho hàm số."
   ]
  },
  {
   "cell_type": "markdown",
   "metadata": {
    "deletable": false,
    "nbgrader": {
     "cell_type": "markdown",
     "checksum": "322a244b0fae3a20ec568a5099aaaec1",
     "grade": true,
     "grade_id": "c7",
     "locked": false,
     "points": 1,
     "schema_version": 3,
     "solution": true,
     "task": false
    }
   },
   "source": [
    "YOUR ANSWER HERE a"
   ]
  },
  {
   "cell_type": "markdown",
   "metadata": {},
   "source": [
    "## Câu 8 (1 điểm)"
   ]
  },
  {
   "cell_type": "code",
   "execution_count": 5,
   "metadata": {},
   "outputs": [],
   "source": [
    "def generate_target_w():\n",
    "    \"\"\"\n",
    "    Generates target_w (the vector of parameters of f) \n",
    "    from two random, uniformly distributed points in [-1, 1] x [-1, 1].\n",
    "    \n",
    "    Returns\n",
    "    -------\n",
    "    target_w : numpy array, shape (3, 1) \n",
    "        The vector of parameters of f.\n",
    "    \"\"\"\n",
    "    # Generate two points from a uniform distribution over [-1, 1]x[-1, 1]\n",
    "    p1 = np.random.uniform(-1, 1, 2)\n",
    "    p2 = np.random.uniform(-1, 1, 2)\n",
    "    # Compute the target W from these two points\n",
    "    target_w = np.array([p1[1]*p2[0] - p1[0]*p2[1], p2[1] - p1[1], p1[0] - p2[0]]).reshape((-1, 1))\n",
    "    \n",
    "    return target_w\n",
    "\n",
    "def sigmoid(x):\n",
    "    return 1 / (1 + np.exp(-x))\n",
    "\n",
    "def generate_data(N, target_w):\n",
    "    \"\"\"\n",
    "    Generates a data set by generating random inputs and then using target_w to generate the \n",
    "    corresponding outputs.\n",
    "    \n",
    "    Parameters\n",
    "    ----------\n",
    "    N : int\n",
    "        The number of examples.\n",
    "    target_w : numpy array, shape (3, 1) \n",
    "        The vector of parameters of f.\n",
    "    \n",
    "    Returns\n",
    "    -------\n",
    "    X : numpy array, shape (N, 3)\n",
    "        The matrix of input vectors (each row corresponds to an input vector); the first column of \n",
    "        this matrix is all ones.\n",
    "    Y : numpy array, shape (N, 1)\n",
    "        The vector of outputs.        \n",
    "    \"\"\"\n",
    "    bad_data = True # `bad_data = True` means: data contain points on the target line \n",
    "                    # (this rarely happens, but just to be careful)\n",
    "                    # -> y's of these points = 0 (with np.sign); \n",
    "                    #    we don't want this (y's of data must be -1 or 1)\n",
    "                    # -> re-generate data until `bad_data = False`\n",
    "    \n",
    "    while bad_data == True:\n",
    "        X = np.random.uniform(-1, 1, (N, 2))\n",
    "        X = np.hstack((np.ones((N, 1)), X)) # Add 'ones' column\n",
    "        z = sigmoid(np.dot(X, target_w))\n",
    "        Y = np.zeros_like(z)\n",
    "        Y[np.where(z > 0.5)] = 1\n",
    "        Y[np.where(z <= 0.5)] = -1\n",
    "        if (0 not in Y): # Good data\n",
    "            bad_data = False\n",
    "    \n",
    "    return X, Y"
   ]
  },
  {
   "cell_type": "code",
   "execution_count": 6,
   "metadata": {},
   "outputs": [],
   "source": [
    "def get_derrivation_w(x, y, w): #get derrivation respect to w\n",
    "    dw = (np.exp(-y * np.dot(x, w)) * (-y * x.T)) / (1 + np.exp(-y * np.dot(x, w)))\n",
    "    dw = np.expand_dims(dw, 1)\n",
    "    return dw\n",
    "def get_error_all(X, Y, w): #get error for all data X with label Y\n",
    "    N = X.shape[0]\n",
    "    E = np.sum(np.log(1 + np.exp(-Y * np.dot(X, w)))) / N\n",
    "    return E\n",
    "\n",
    "def run_LogisticRegression(X, Y, lr = 0.01, show_epoch = True):\n",
    "    w = np.zeros((X.shape[1], 1))\n",
    "    n_epochs = 0\n",
    "    \n",
    "    while True:\n",
    "        np.random.seed(n_epochs)\n",
    "        prev_w = w.copy()\n",
    "        for i in np.random.permutation(X.shape[0]):\n",
    "            x = X[i]\n",
    "            y = Y[i]\n",
    "            dw = get_derrivation_w(x, y, w)\n",
    "            w -= lr * dw\n",
    "        if show_epoch:\n",
    "            print(\"Epoch \", n_epochs)\n",
    "            print(\"Error after a epoch: \", get_error_all(X, Y, w))\n",
    "        n_epochs += 1\n",
    "        if (np.linalg.norm(prev_w - w) < 0.01):\n",
    "            break\n",
    "    return w, n_epochs"
   ]
  },
  {
   "cell_type": "code",
   "execution_count": 7,
   "metadata": {},
   "outputs": [],
   "source": [
    "def main_LogisticRegression(N = 100, show_step = True, show_epoch = True):\n",
    "    num_runs = 100\n",
    "    avg_test_err = 0.0\n",
    "    avg_epoch = 0.0\n",
    "    lr = 0.01\n",
    "    for r in range(num_runs):\n",
    "        target_w = generate_target_w()\n",
    "        X, Y = generate_data(N, target_w)\n",
    "        \n",
    "        w, n_epochs = run_LogisticRegression(X, Y, lr, show_epoch)\n",
    "        X_test, Y_test = generate_data(10000, target_w)\n",
    "        test_err = get_error_all(X_test, Y_test, w)\n",
    "        if show_step:\n",
    "            print('Test ', r)\n",
    "            print('Number of epoch : ', n_epochs)\n",
    "            print('E_out : ',test_err)\n",
    "            print('-------------------')\n",
    "        avg_test_err += test_err\n",
    "        avg_epoch += n_epochs\n",
    "    avg_test_err /= num_runs\n",
    "    avg_epoch /= num_runs\n",
    "    print('Average E_out', avg_test_err)\n",
    "    print('Average number of epoch : ', avg_epoch)"
   ]
  },
  {
   "cell_type": "code",
   "execution_count": 8,
   "metadata": {},
   "outputs": [
    {
     "name": "stdout",
     "output_type": "stream",
     "text": [
      "Test  0\n",
      "Number of epoch :  317\n",
      "E_out :  0.10948001796696273\n",
      "-------------------\n",
      "Test  1\n",
      "Number of epoch :  374\n",
      "E_out :  0.10753723419257771\n",
      "-------------------\n",
      "Test  2\n",
      "Number of epoch :  379\n",
      "E_out :  0.08818525148010697\n",
      "-------------------\n",
      "Test  3\n",
      "Number of epoch :  304\n",
      "E_out :  0.10679861325300508\n",
      "-------------------\n",
      "Test  4\n",
      "Number of epoch :  267\n",
      "E_out :  0.10764284071976277\n",
      "-------------------\n",
      "Test  5\n",
      "Number of epoch :  262\n",
      "E_out :  0.10890879920895272\n",
      "-------------------\n",
      "Test  6\n",
      "Number of epoch :  359\n",
      "E_out :  0.10361895442422335\n",
      "-------------------\n",
      "Test  7\n",
      "Number of epoch :  372\n",
      "E_out :  0.09936144748401786\n",
      "-------------------\n",
      "Test  8\n",
      "Number of epoch :  330\n",
      "E_out :  0.10218746356632806\n",
      "-------------------\n",
      "Test  9\n",
      "Number of epoch :  373\n",
      "E_out :  0.08761114451086259\n",
      "-------------------\n",
      "Test  10\n",
      "Number of epoch :  334\n",
      "E_out :  0.10905531131167553\n",
      "-------------------\n",
      "Test  11\n",
      "Number of epoch :  350\n",
      "E_out :  0.10203922726634547\n",
      "-------------------\n",
      "Test  12\n",
      "Number of epoch :  383\n",
      "E_out :  0.1042421199286407\n",
      "-------------------\n",
      "Test  13\n",
      "Number of epoch :  357\n",
      "E_out :  0.0976341836164247\n",
      "-------------------\n",
      "Test  14\n",
      "Number of epoch :  333\n",
      "E_out :  0.10332460519135427\n",
      "-------------------\n",
      "Test  15\n",
      "Number of epoch :  351\n",
      "E_out :  0.10023323876910989\n",
      "-------------------\n",
      "Test  16\n",
      "Number of epoch :  359\n",
      "E_out :  0.10424838062706818\n",
      "-------------------\n",
      "Test  17\n",
      "Number of epoch :  372\n",
      "E_out :  0.09936144748401786\n",
      "-------------------\n",
      "Test  18\n",
      "Number of epoch :  330\n",
      "E_out :  0.10218746356632806\n",
      "-------------------\n",
      "Test  19\n",
      "Number of epoch :  373\n",
      "E_out :  0.08761114451086259\n",
      "-------------------\n",
      "Test  20\n",
      "Number of epoch :  334\n",
      "E_out :  0.10905531131167553\n",
      "-------------------\n",
      "Test  21\n",
      "Number of epoch :  350\n",
      "E_out :  0.10203922726634547\n",
      "-------------------\n",
      "Test  22\n",
      "Number of epoch :  383\n",
      "E_out :  0.1042421199286407\n",
      "-------------------\n",
      "Test  23\n",
      "Number of epoch :  357\n",
      "E_out :  0.0976341836164247\n",
      "-------------------\n",
      "Test  24\n",
      "Number of epoch :  333\n",
      "E_out :  0.10332460519135427\n",
      "-------------------\n",
      "Test  25\n",
      "Number of epoch :  351\n",
      "E_out :  0.10023323876910989\n",
      "-------------------\n",
      "Test  26\n",
      "Number of epoch :  359\n",
      "E_out :  0.10424838062706818\n",
      "-------------------\n",
      "Test  27\n",
      "Number of epoch :  372\n",
      "E_out :  0.09936144748401786\n",
      "-------------------\n",
      "Test  28\n",
      "Number of epoch :  330\n",
      "E_out :  0.10218746356632806\n",
      "-------------------\n",
      "Test  29\n",
      "Number of epoch :  373\n",
      "E_out :  0.08761114451086259\n",
      "-------------------\n",
      "Test  30\n",
      "Number of epoch :  334\n",
      "E_out :  0.10905531131167553\n",
      "-------------------\n",
      "Test  31\n",
      "Number of epoch :  350\n",
      "E_out :  0.10203922726634547\n",
      "-------------------\n",
      "Test  32\n",
      "Number of epoch :  383\n",
      "E_out :  0.1042421199286407\n",
      "-------------------\n",
      "Test  33\n",
      "Number of epoch :  357\n",
      "E_out :  0.0976341836164247\n",
      "-------------------\n",
      "Test  34\n",
      "Number of epoch :  333\n",
      "E_out :  0.10332460519135427\n",
      "-------------------\n",
      "Test  35\n",
      "Number of epoch :  351\n",
      "E_out :  0.10023323876910989\n",
      "-------------------\n",
      "Test  36\n",
      "Number of epoch :  359\n",
      "E_out :  0.10424838062706818\n",
      "-------------------\n",
      "Test  37\n",
      "Number of epoch :  372\n",
      "E_out :  0.09936144748401786\n",
      "-------------------\n",
      "Test  38\n",
      "Number of epoch :  330\n",
      "E_out :  0.10218746356632806\n",
      "-------------------\n",
      "Test  39\n",
      "Number of epoch :  373\n",
      "E_out :  0.08761114451086259\n",
      "-------------------\n",
      "Test  40\n",
      "Number of epoch :  334\n",
      "E_out :  0.10905531131167553\n",
      "-------------------\n",
      "Test  41\n",
      "Number of epoch :  350\n",
      "E_out :  0.10203922726634547\n",
      "-------------------\n",
      "Test  42\n",
      "Number of epoch :  383\n",
      "E_out :  0.1042421199286407\n",
      "-------------------\n",
      "Test  43\n",
      "Number of epoch :  357\n",
      "E_out :  0.0976341836164247\n",
      "-------------------\n",
      "Test  44\n",
      "Number of epoch :  333\n",
      "E_out :  0.10332460519135427\n",
      "-------------------\n",
      "Test  45\n",
      "Number of epoch :  351\n",
      "E_out :  0.10023323876910989\n",
      "-------------------\n",
      "Test  46\n",
      "Number of epoch :  359\n",
      "E_out :  0.10424838062706818\n",
      "-------------------\n",
      "Test  47\n",
      "Number of epoch :  372\n",
      "E_out :  0.09936144748401786\n",
      "-------------------\n",
      "Test  48\n",
      "Number of epoch :  330\n",
      "E_out :  0.10218746356632806\n",
      "-------------------\n",
      "Test  49\n",
      "Number of epoch :  373\n",
      "E_out :  0.08761114451086259\n",
      "-------------------\n",
      "Test  50\n",
      "Number of epoch :  334\n",
      "E_out :  0.10905531131167553\n",
      "-------------------\n",
      "Test  51\n",
      "Number of epoch :  350\n",
      "E_out :  0.10203922726634547\n",
      "-------------------\n",
      "Test  52\n",
      "Number of epoch :  383\n",
      "E_out :  0.1042421199286407\n",
      "-------------------\n",
      "Test  53\n",
      "Number of epoch :  357\n",
      "E_out :  0.0976341836164247\n",
      "-------------------\n",
      "Test  54\n",
      "Number of epoch :  333\n",
      "E_out :  0.10332460519135427\n",
      "-------------------\n",
      "Test  55\n",
      "Number of epoch :  351\n",
      "E_out :  0.10023323876910989\n",
      "-------------------\n",
      "Test  56\n",
      "Number of epoch :  359\n",
      "E_out :  0.10424838062706818\n",
      "-------------------\n",
      "Test  57\n",
      "Number of epoch :  372\n",
      "E_out :  0.09936144748401786\n",
      "-------------------\n",
      "Test  58\n",
      "Number of epoch :  330\n",
      "E_out :  0.10218746356632806\n",
      "-------------------\n",
      "Test  59\n",
      "Number of epoch :  373\n",
      "E_out :  0.08761114451086259\n",
      "-------------------\n",
      "Test  60\n",
      "Number of epoch :  334\n",
      "E_out :  0.10905531131167553\n",
      "-------------------\n",
      "Test  61\n",
      "Number of epoch :  350\n",
      "E_out :  0.10203922726634547\n",
      "-------------------\n",
      "Test  62\n",
      "Number of epoch :  383\n",
      "E_out :  0.1042421199286407\n",
      "-------------------\n",
      "Test  63\n",
      "Number of epoch :  357\n",
      "E_out :  0.0976341836164247\n",
      "-------------------\n",
      "Test  64\n",
      "Number of epoch :  333\n",
      "E_out :  0.10332460519135427\n",
      "-------------------\n",
      "Test  65\n",
      "Number of epoch :  351\n",
      "E_out :  0.10023323876910989\n",
      "-------------------\n",
      "Test  66\n",
      "Number of epoch :  359\n",
      "E_out :  0.10424838062706818\n",
      "-------------------\n",
      "Test  67\n",
      "Number of epoch :  372\n",
      "E_out :  0.09936144748401786\n",
      "-------------------\n",
      "Test  68\n",
      "Number of epoch :  330\n",
      "E_out :  0.10218746356632806\n",
      "-------------------\n",
      "Test  69\n",
      "Number of epoch :  373\n",
      "E_out :  0.08761114451086259\n",
      "-------------------\n",
      "Test  70\n",
      "Number of epoch :  334\n",
      "E_out :  0.10905531131167553\n",
      "-------------------\n",
      "Test  71\n",
      "Number of epoch :  350\n",
      "E_out :  0.10203922726634547\n",
      "-------------------\n",
      "Test  72\n",
      "Number of epoch :  383\n",
      "E_out :  0.1042421199286407\n",
      "-------------------\n",
      "Test  73\n",
      "Number of epoch :  357\n",
      "E_out :  0.0976341836164247\n",
      "-------------------\n",
      "Test  74\n",
      "Number of epoch :  333\n",
      "E_out :  0.10332460519135427\n",
      "-------------------\n",
      "Test  75\n",
      "Number of epoch :  351\n",
      "E_out :  0.10023323876910989\n",
      "-------------------\n",
      "Test  76\n",
      "Number of epoch :  359\n",
      "E_out :  0.10424838062706818\n",
      "-------------------\n",
      "Test  77\n",
      "Number of epoch :  372\n",
      "E_out :  0.09936144748401786\n",
      "-------------------\n",
      "Test  78\n",
      "Number of epoch :  330\n",
      "E_out :  0.10218746356632806\n",
      "-------------------\n",
      "Test  79\n",
      "Number of epoch :  373\n",
      "E_out :  0.08761114451086259\n",
      "-------------------\n",
      "Test  80\n",
      "Number of epoch :  334\n",
      "E_out :  0.10905531131167553\n",
      "-------------------\n",
      "Test  81\n",
      "Number of epoch :  350\n",
      "E_out :  0.10203922726634547\n",
      "-------------------\n",
      "Test  82\n",
      "Number of epoch :  383\n",
      "E_out :  0.1042421199286407\n",
      "-------------------\n",
      "Test  83\n",
      "Number of epoch :  357\n",
      "E_out :  0.0976341836164247\n",
      "-------------------\n",
      "Test  84\n",
      "Number of epoch :  333\n",
      "E_out :  0.10332460519135427\n",
      "-------------------\n",
      "Test  85\n",
      "Number of epoch :  351\n",
      "E_out :  0.10023323876910989\n",
      "-------------------\n",
      "Test  86\n",
      "Number of epoch :  359\n",
      "E_out :  0.10424838062706818\n",
      "-------------------\n",
      "Test  87\n",
      "Number of epoch :  372\n",
      "E_out :  0.09936144748401786\n",
      "-------------------\n",
      "Test  88\n",
      "Number of epoch :  330\n",
      "E_out :  0.10218746356632806\n",
      "-------------------\n",
      "Test  89\n",
      "Number of epoch :  373\n",
      "E_out :  0.08761114451086259\n",
      "-------------------\n",
      "Test  90\n",
      "Number of epoch :  334\n",
      "E_out :  0.10905531131167553\n",
      "-------------------\n",
      "Test  91\n",
      "Number of epoch :  350\n",
      "E_out :  0.10203922726634547\n",
      "-------------------\n",
      "Test  92\n",
      "Number of epoch :  383\n",
      "E_out :  0.1042421199286407\n",
      "-------------------\n",
      "Test  93\n",
      "Number of epoch :  357\n",
      "E_out :  0.0976341836164247\n",
      "-------------------\n",
      "Test  94\n",
      "Number of epoch :  333\n",
      "E_out :  0.10332460519135427\n",
      "-------------------\n",
      "Test  95\n",
      "Number of epoch :  351\n",
      "E_out :  0.10023323876910989\n",
      "-------------------\n",
      "Test  96\n",
      "Number of epoch :  359\n",
      "E_out :  0.10424838062706818\n",
      "-------------------\n",
      "Test  97\n",
      "Number of epoch :  372\n",
      "E_out :  0.09936144748401786\n",
      "-------------------\n",
      "Test  98\n",
      "Number of epoch :  330\n",
      "E_out :  0.10218746356632806\n",
      "-------------------\n",
      "Test  99\n",
      "Number of epoch :  373\n",
      "E_out :  0.08761114451086259\n",
      "-------------------\n",
      "Average E_out 0.10110765867253241\n",
      "Average number of epoch :  352.15\n"
     ]
    }
   ],
   "source": [
    "main_LogisticRegression(100, True, False)"
   ]
  },
  {
   "cell_type": "markdown",
   "metadata": {},
   "source": [
    "**Từ kết quả chạy trên, ta có trung bình của E_out xấp xỉ trong khoảng gần với 0.1. Nên mình sẽ lựa chọn đáp án là d, 0.100**"
   ]
  },
  {
   "cell_type": "markdown",
   "metadata": {
    "deletable": false,
    "nbgrader": {
     "cell_type": "markdown",
     "checksum": "d81773f072cd15e4a27b6cd240a5d990",
     "grade": true,
     "grade_id": "c8",
     "locked": false,
     "points": 1,
     "schema_version": 3,
     "solution": true,
     "task": false
    }
   },
   "source": [
    "YOUR ANSWER HERE d"
   ]
  },
  {
   "cell_type": "markdown",
   "metadata": {},
   "source": [
    "## Câu 9 (1 điểm)"
   ]
  },
  {
   "cell_type": "markdown",
   "metadata": {},
   "source": [
    "Cũng từ Kết quả chạy, ta có trung bình số lượng các epoch để hoàn thành 1 lần chạy learning model Linear Regression cho bài toán này khoảng 350-355. **Nên mình sẽ lựa chọn đáp án a, 350 cho câu 9**"
   ]
  },
  {
   "cell_type": "markdown",
   "metadata": {
    "deletable": false,
    "nbgrader": {
     "cell_type": "markdown",
     "checksum": "e814a2db0b8a53e4fddfee4bcbf405fc",
     "grade": true,
     "grade_id": "c9",
     "locked": false,
     "points": 1,
     "schema_version": 3,
     "solution": true,
     "task": false
    }
   },
   "source": [
    "YOUR ANSWER HERE a"
   ]
  },
  {
   "cell_type": "markdown",
   "metadata": {},
   "source": [
    "## Câu 10 (1 điểm)"
   ]
  },
  {
   "cell_type": "markdown",
   "metadata": {},
   "source": [
    "Thuật toán PLA có thể được thực thi bằng SGD, tuy nhiên chúng ta cần 1 hàm lỗi chính xác để áp dụng SGD.\n",
    "\n",
    "Với thuật toán PLA, ta có:\n",
    "\n",
    "Với mỗi cặp $(x_n, y_n)$ nếu $sign(w^Tx_n) \\neq y_n$ thì ta cập nhật lại $w = w + y_nx_n$\n",
    "\n",
    "Ta có thể viết lại PLA:\n",
    "\n",
    "$$sign(w^Tx_n) \\neq y_n, w = w + y_nx_n$$\n",
    "\n",
    "$$sign(w^Tx_n) = y_n, w = w + 0$$\n",
    "\n",
    "Ta nhận thấy công thức trên của PLA có dạng các giá trị tùy theo từng điều kiện, nên ta có thể đoán được công thức cho $e_n(w)$ để áp dụng SGD cho PLA là đáp án e, có dạng:\n",
    "\n",
    "$$e_n(w) = -\\min(0,y_nw^Tx_n)$$\n",
    "\n",
    "Từ đây ta có thể sử dụng SGD cho hàm lỗi với mỗi bước cập nhật như sau:\n",
    "\n",
    "Từ công thức SGD, ta có: \n",
    "$$w = w - \\eta \\triangledown_w e_n(w)$$\n",
    "\n",
    "$$w = w - \\eta (-\\min(0,y_nx_n))$$\n",
    "\n",
    "Giả sử ở đây ta có thể đạo hàm được cho công thức $e_n(w) = -\\min(0,y_nw^Tx_n)$ trên từng giá trị là 0 hoặc $y_nw^Tx_n$.\n",
    "\n",
    "Ta đặt $\\eta = 1$, công thức cập nhật w trở thành: \n",
    "\n",
    "$$w = w + \\min(0,y_nx_n))$$\n",
    "\n",
    "Ở đây ta sẽ phân tích thêm về công thức độ lỗi $e_n(w) = -\\min(0,y_nw^Tx_n)$, \n",
    "\n",
    "Trường hợp 1: $sign(w^Tx_n) \\neq y_n$, nghĩa là giá trị $w^Tx_n$ khác dấu với $y_n$ hay $y_nw^Tx_n < 0$, nên giá trị của công thức trên sẽ nhận là $y_nw^Tx_n$ và đạo hàm theo w sẽ là $y_nx_n$. Từ đây công thức cập nhật w sẽ là $w = w + y_nx_n ~~~~(1)$\n",
    "\n",
    "Trường hợp 2: $sign(w^Tx_n) = y_n$, $y_nw^Tx_n > 0$ nên công thức độ lỗi sẽ nhận giá trị 0, ta cập nhật lại w là $w = w + 0 ~~~~(2)$\n",
    "\n",
    "Từ (1) và (2) khi so sánh với công thức PLA qua 2 trường hợp ta sẽ thấy sự tương đồng. Nên mình sẽ lựa chọn hàm lỗi $e_n(w) = -\\min(0,y_nw^Tx_n)$ là đáp án e."
   ]
  },
  {
   "cell_type": "markdown",
   "metadata": {
    "deletable": false,
    "nbgrader": {
     "cell_type": "markdown",
     "checksum": "41cbf5c6d2b94eeae0a712be2181fef6",
     "grade": true,
     "grade_id": "c10",
     "locked": false,
     "points": 1,
     "schema_version": 3,
     "solution": true,
     "task": false
    }
   },
   "source": [
    "YOUR ANSWER HERE e"
   ]
  },
  {
   "cell_type": "code",
   "execution_count": null,
   "metadata": {},
   "outputs": [],
   "source": []
  }
 ],
 "metadata": {
  "kernelspec": {
   "display_name": "Python 3",
   "language": "python",
   "name": "python3"
  },
  "language_info": {
   "codemirror_mode": {
    "name": "ipython",
    "version": 3
   },
   "file_extension": ".py",
   "mimetype": "text/x-python",
   "name": "python",
   "nbconvert_exporter": "python",
   "pygments_lexer": "ipython3",
   "version": "3.6.9"
  },
  "toc": {
   "base_numbering": 1,
   "nav_menu": {},
   "number_sections": true,
   "sideBar": true,
   "skip_h1_title": false,
   "title_cell": "Table of Contents",
   "title_sidebar": "Contents",
   "toc_cell": false,
   "toc_position": {},
   "toc_section_display": true,
   "toc_window_display": false
  },
  "varInspector": {
   "cols": {
    "lenName": 16,
    "lenType": 16,
    "lenVar": 40
   },
   "kernels_config": {
    "python": {
     "delete_cmd_postfix": "",
     "delete_cmd_prefix": "del ",
     "library": "var_list.py",
     "varRefreshCmd": "print(var_dic_list())"
    },
    "r": {
     "delete_cmd_postfix": ") ",
     "delete_cmd_prefix": "rm(",
     "library": "var_list.r",
     "varRefreshCmd": "cat(var_dic_list()) "
    }
   },
   "types_to_exclude": [
    "module",
    "function",
    "builtin_function_or_method",
    "instance",
    "_Feature"
   ],
   "window_display": false
  }
 },
 "nbformat": 4,
 "nbformat_minor": 4
}
