{
 "cells": [
  {
   "cell_type": "markdown",
   "metadata": {},
   "source": [
    "# Bài tập 3\n",
    "\n",
    "Bùi Văn Hợp - 1712046"
   ]
  },
  {
   "cell_type": "markdown",
   "metadata": {},
   "source": [
    "## Câu 1 (1 điểm)"
   ]
  },
  {
   "cell_type": "markdown",
   "metadata": {},
   "source": [
    "Sau khi chỉnh sửa bất đẳng thức Hoefdding để áp dụng cho M hypothesis, ta sẽ có 1 bất đẳng thức mới thể hiện mỗi quan hệ giữa $E_{in}$ và $E_{out}$ với N (số lượng điểm dữ liệu) cũng như M (số lượng của tập Hypothesis), với g là một hypothesis trong M hypothesis.\n",
    "\n",
    "$P[|E_{in} - E_{out}| > \\epsilon] \\leq 2Me^{-2\\epsilon^{2}N} ~~~~(1)$"
   ]
  },
  {
   "cell_type": "markdown",
   "metadata": {},
   "source": [
    "Giả sử  ta đặt $\\epsilon = 0.05$, và ta muốn chặn trên của (1) tối đa 0.03, vậy ta có thể suy ra:\n",
    "\n",
    "$2Me^{-2\\epsilon^{2}N} <= 0.03 \\Rightarrow N \\geq \\frac{ln(\\frac{0.03}{2M})}{-2\\epsilon^{2}} ~~~~(2)$"
   ]
  },
  {
   "cell_type": "markdown",
   "metadata": {},
   "source": [
    "Với Câu hỏi 1, M = 1, từ (2) ta có $N >= 839.94$, vậy giá trị tối thiểu của N với $M = 1$ và $\\epsilon = 0.05$ là 840. **Mình sẽ chọn đáp án gần nhất là b, 1000.**"
   ]
  },
  {
   "cell_type": "markdown",
   "metadata": {
    "deletable": false,
    "nbgrader": {
     "cell_type": "markdown",
     "checksum": "2e83d862b3c5fd4fb57d72c50e8115f8",
     "grade": true,
     "grade_id": "c1",
     "locked": false,
     "points": 1,
     "schema_version": 3,
     "solution": true,
     "task": false
    }
   },
   "source": [
    "YOUR ANSWER HERE b"
   ]
  },
  {
   "cell_type": "markdown",
   "metadata": {},
   "source": [
    "## Câu 2 (1 điểm)"
   ]
  },
  {
   "cell_type": "markdown",
   "metadata": {},
   "source": [
    "Với câu hỏi 2, M = 10, từ (2) ta có $N \\geq 1300.458$, vậy giá trị tối thiểu của N với $M = 10$ và $\\epsilon = 0.05$ là 1301. **Mình sẽ chọn đáp án gần nhất là c, 1500.**"
   ]
  },
  {
   "cell_type": "markdown",
   "metadata": {
    "deletable": false,
    "nbgrader": {
     "cell_type": "markdown",
     "checksum": "47d4e2bb3e4812ef7b37e032a898cfec",
     "grade": true,
     "grade_id": "c2",
     "locked": false,
     "points": 1,
     "schema_version": 3,
     "solution": true,
     "task": false
    }
   },
   "source": [
    "YOUR ANSWER HERE c"
   ]
  },
  {
   "cell_type": "markdown",
   "metadata": {},
   "source": [
    "## Câu 3 (1 điểm)"
   ]
  },
  {
   "cell_type": "markdown",
   "metadata": {},
   "source": [
    "Với câu hỏi 3, M = 100, từ (2) ta có $N \\geq 1760.975$, vậy giá trị tối thiểu của N với $M = 100$ và $\\epsilon = 0.05$ là 1761. **Mình sẽ chọn đáp án gần nhất là d, 2000.**"
   ]
  },
  {
   "cell_type": "markdown",
   "metadata": {
    "deletable": false,
    "nbgrader": {
     "cell_type": "markdown",
     "checksum": "0997a909d9ab1f250c2bfd0645fee970",
     "grade": true,
     "grade_id": "c3",
     "locked": false,
     "points": 1,
     "schema_version": 3,
     "solution": true,
     "task": false
    }
   },
   "source": [
    "YOUR ANSWER HERE d"
   ]
  },
  {
   "cell_type": "markdown",
   "metadata": {},
   "source": [
    "## Câu 4 (1 điểm)"
   ]
  },
  {
   "cell_type": "markdown",
   "metadata": {
    "deletable": false,
    "nbgrader": {
     "cell_type": "markdown",
     "checksum": "efabab5c4035a6864ac8cb3e0061c6f0",
     "grade": true,
     "grade_id": "c4",
     "locked": false,
     "points": 1,
     "schema_version": 3,
     "solution": true,
     "task": false
    }
   },
   "source": [
    "YOUR ANSWER HERE"
   ]
  },
  {
   "cell_type": "markdown",
   "metadata": {},
   "source": [
    "## Câu 5 (1 điểm)"
   ]
  },
  {
   "cell_type": "markdown",
   "metadata": {
    "deletable": false,
    "nbgrader": {
     "cell_type": "markdown",
     "checksum": "0b484b8390bec96142e8a1213ee8cd2c",
     "grade": true,
     "grade_id": "c5",
     "locked": false,
     "points": 1,
     "schema_version": 3,
     "solution": true,
     "task": false
    }
   },
   "source": [
    "YOUR ANSWER HERE"
   ]
  },
  {
   "cell_type": "markdown",
   "metadata": {},
   "source": [
    "## Câu 6 (1 điểm)"
   ]
  },
  {
   "cell_type": "markdown",
   "metadata": {},
   "source": [
    "Ta đặt 2 đoạn là $[a_1, b_1]$ và $[a_2, b_2]$, Ta sẽ gặp 1 trường hợp là breakpoint của grow function của bài toán này là:\n",
    "\n",
    "![ex6](ex6.png)"
   ]
  },
  {
   "cell_type": "markdown",
   "metadata": {},
   "source": [
    "Vậy breapoint cho bài toán \"2-interval\" là $N = 5$. **Vậy đáp án sẽ là c, 5.**"
   ]
  },
  {
   "cell_type": "markdown",
   "metadata": {
    "deletable": false,
    "nbgrader": {
     "cell_type": "markdown",
     "checksum": "26f542221236fb24d0ddbee584eed7d0",
     "grade": true,
     "grade_id": "c6",
     "locked": false,
     "points": 1,
     "schema_version": 3,
     "solution": true,
     "task": false
    }
   },
   "source": [
    "YOUR ANSWER HERE c"
   ]
  },
  {
   "cell_type": "markdown",
   "metadata": {},
   "source": [
    "## Câu 7 (1 điểm)"
   ]
  },
  {
   "cell_type": "markdown",
   "metadata": {},
   "source": [
    "Ta cần tìm hàm grow function $m_H(N)$ cho bài toán \"2-interval\". Khá tương tự với bài toán \"1-interval\" mà chúng ta đã giải trong bài học, chúng ta sẽ chia các điểm rời rạc nhau trên trục số (không có 2 số nào trùng vị trí của nhau), và chúng ta sẽ tìm cách đặt 2 khoảng $[a_1, b_1]$ và $[a_2, b_2]$ trong N + 1 khoảng (với N điểm ta có)."
   ]
  },
  {
   "cell_type": "markdown",
   "metadata": {},
   "source": [
    "Ta sẽ chia ra 2 trường hợp:\n",
    "\n",
    "- 2 đoạn $[a_1, b_1]$ và $[a_2, b_2]$ rời nhau, không bị chồng lên nhau. Kết quả sẽ là ${N+1 \\choose 4}$, vì ta sẽ chọn ra 4 vị trí trong N + 1 khoảng để tạo ra 2 đoạn $[a_1, b_1]$ và $[a_2, b_2]$.\n",
    "\n",
    "![ex6-nonoverlap](ex6-nonoverlap.png)\n",
    "\n",
    "- 2 đoạn $[a_1, b_1]$ và $[a_2, b_2]$ bị chồng lên nhau, ta sẽ xem 2 đoạn chồng lên nhau này như là 1 đoạn và cách chọn giống như trong bài toán \"1-interval\", và kết quả của việc chọn 2 vị trí trong N + 1 khoảng là ${N+1 \\choose 2}$\n",
    "\n",
    "![ex6-overlap](ex6-overlap.png)\n",
    "\n",
    "Chú ý ở cách chọn 2 đoạn rời nhau, chúng ta sẽ không chọn vị trí $b_1$ (vị trí cuối của đoạn 1) và $a_2$ (vị trí đầu tiên của đoạn 2) không được nằm chung 1 khoảng nào (trong N + 1 khoảng ta có). \n",
    "\n",
    "Vậy với 2 trường hợp trên, ta đã bao phủ hết các trường hợp có chọn ra các điểm +1 trong N điểm, ta sẽ không quên 1 trường hợp nữa là tất cả các điểm đều là -1 (tức là 2 đoạn không hề phủ 1 điểm nào). Vậy grow function $m_H(N) = {N + 1 \\choose 4} + {N + 1 \\choose 2} + 1$"
   ]
  },
  {
   "cell_type": "markdown",
   "metadata": {},
   "source": [
    "**Kết quả mình sẽ lựa chọn hàm c**"
   ]
  },
  {
   "cell_type": "markdown",
   "metadata": {
    "deletable": false,
    "nbgrader": {
     "cell_type": "markdown",
     "checksum": "322a244b0fae3a20ec568a5099aaaec1",
     "grade": true,
     "grade_id": "c7",
     "locked": false,
     "points": 1,
     "schema_version": 3,
     "solution": true,
     "task": false
    }
   },
   "source": [
    "YOUR ANSWER HERE c"
   ]
  },
  {
   "cell_type": "markdown",
   "metadata": {},
   "source": [
    "## Câu 8 (1 điểm)"
   ]
  },
  {
   "cell_type": "markdown",
   "metadata": {},
   "source": [
    "Ta sẽ xét đến trường hợp tổng quát cho bài toán \"M-interval\", Xét qua các trường hợp \"1-interval\", \"2-interval\", ta sẽ chú ý tới N để cho bài toán có breakpoint:\n",
    "\n",
    "![ex6-pattern](ex6-pattern.png)"
   ]
  },
  {
   "cell_type": "markdown",
   "metadata": {},
   "source": [
    "Ta nhận thấy các trường hợp breakpoint cho bài toán tổng quát \"M-interval\" là sẽ có liên tục $2M$ điểm có giá trị +1 và -1 liên tục nhau, và khi ta thêm 1 điểm có giá trị +1 (tức là cần phải có thêm 1 đoạn nữa để sinh ra kết quả này) thì bài toán \"M-interval\" sẽ có breakpoint.\n",
    "\n",
    "![ex6-breakpoint](ex6-breakpoint.png)"
   ]
  },
  {
   "cell_type": "markdown",
   "metadata": {},
   "source": [
    "**Vậy ta cần 2M + 1 điểm để có breakpoint cho bài toán \"M-interval\", vậy ta sẽ chọn đáp án d**"
   ]
  },
  {
   "cell_type": "markdown",
   "metadata": {
    "deletable": false,
    "nbgrader": {
     "cell_type": "markdown",
     "checksum": "d81773f072cd15e4a27b6cd240a5d990",
     "grade": true,
     "grade_id": "c8",
     "locked": false,
     "points": 1,
     "schema_version": 3,
     "solution": true,
     "task": false
    }
   },
   "source": [
    "YOUR ANSWER HERE d"
   ]
  },
  {
   "cell_type": "markdown",
   "metadata": {},
   "source": [
    "## Câu 9 (1 điểm)"
   ]
  },
  {
   "cell_type": "markdown",
   "metadata": {
    "deletable": false,
    "nbgrader": {
     "cell_type": "markdown",
     "checksum": "e814a2db0b8a53e4fddfee4bcbf405fc",
     "grade": true,
     "grade_id": "c9",
     "locked": false,
     "points": 1,
     "schema_version": 3,
     "solution": true,
     "task": false
    }
   },
   "source": [
    "YOUR ANSWER HERE"
   ]
  },
  {
   "cell_type": "markdown",
   "metadata": {},
   "source": [
    "## Câu 10 (1 điểm)"
   ]
  },
  {
   "cell_type": "markdown",
   "metadata": {
    "deletable": false,
    "nbgrader": {
     "cell_type": "markdown",
     "checksum": "41cbf5c6d2b94eeae0a712be2181fef6",
     "grade": true,
     "grade_id": "c10",
     "locked": false,
     "points": 1,
     "schema_version": 3,
     "solution": true,
     "task": false
    }
   },
   "source": [
    "YOUR ANSWER HERE"
   ]
  }
 ],
 "metadata": {
  "kernelspec": {
   "display_name": "Python 3",
   "language": "python",
   "name": "python3"
  },
  "language_info": {
   "codemirror_mode": {
    "name": "ipython",
    "version": 3
   },
   "file_extension": ".py",
   "mimetype": "text/x-python",
   "name": "python",
   "nbconvert_exporter": "python",
   "pygments_lexer": "ipython3",
   "version": "3.6.9"
  },
  "toc": {
   "base_numbering": 1,
   "nav_menu": {},
   "number_sections": true,
   "sideBar": true,
   "skip_h1_title": false,
   "title_cell": "Table of Contents",
   "title_sidebar": "Contents",
   "toc_cell": false,
   "toc_position": {},
   "toc_section_display": true,
   "toc_window_display": false
  },
  "varInspector": {
   "cols": {
    "lenName": 16,
    "lenType": 16,
    "lenVar": 40
   },
   "kernels_config": {
    "python": {
     "delete_cmd_postfix": "",
     "delete_cmd_prefix": "del ",
     "library": "var_list.py",
     "varRefreshCmd": "print(var_dic_list())"
    },
    "r": {
     "delete_cmd_postfix": ") ",
     "delete_cmd_prefix": "rm(",
     "library": "var_list.r",
     "varRefreshCmd": "cat(var_dic_list()) "
    }
   },
   "types_to_exclude": [
    "module",
    "function",
    "builtin_function_or_method",
    "instance",
    "_Feature"
   ],
   "window_display": false
  }
 },
 "nbformat": 4,
 "nbformat_minor": 4
}
