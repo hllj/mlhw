{
 "cells": [
  {
   "cell_type": "markdown",
   "metadata": {},
   "source": [
    "# Bài tập 3\n",
    "\n",
    "Bùi Văn Hợp - 1712046"
   ]
  },
  {
   "cell_type": "markdown",
   "metadata": {},
   "source": [
    "## Câu 1 (1 điểm)"
   ]
  },
  {
   "cell_type": "markdown",
   "metadata": {},
   "source": [
    "Sau khi chỉnh sửa bất đẳng thức Hoefdding để áp dụng cho M hypothesis, ta sẽ có 1 bất đẳng thức mới thể hiện mỗi quan hệ giữa $E_{in}$ và $E_{out}$ với N (số lượng điểm dữ liệu) cũng như M (số lượng của tập Hypothesis), với g là một hypothesis trong M hypothesis.\n",
    "\n",
    "$P[|E_{in} - E_{out}| > \\epsilon] \\leq 2Me^{-2\\epsilon^{2}N} ~~~~(1)$"
   ]
  },
  {
   "cell_type": "markdown",
   "metadata": {},
   "source": [
    "Giả sử  ta đặt $\\epsilon = 0.05$, và ta muốn chặn trên của (1) tối đa 0.03, vậy ta có thể suy ra:\n",
    "\n",
    "$2Me^{-2\\epsilon^{2}N} <= 0.03 \\Rightarrow N \\geq \\frac{ln(\\frac{0.03}{2M})}{-2\\epsilon^{2}} ~~~~(2)$"
   ]
  },
  {
   "cell_type": "markdown",
   "metadata": {},
   "source": [
    "Với Câu hỏi 1, M = 1, từ (2) ta có $N >= 839.94$, vậy giá trị tối thiểu của N với $M = 1$ và $\\epsilon = 0.05$ là 840. **Mình sẽ chọn đáp án gần nhất là b, 1000.**"
   ]
  },
  {
   "cell_type": "markdown",
   "metadata": {
    "deletable": false,
    "nbgrader": {
     "cell_type": "markdown",
     "checksum": "2e83d862b3c5fd4fb57d72c50e8115f8",
     "grade": true,
     "grade_id": "c1",
     "locked": false,
     "points": 1,
     "schema_version": 3,
     "solution": true,
     "task": false
    }
   },
   "source": [
    "YOUR ANSWER HERE b"
   ]
  },
  {
   "cell_type": "markdown",
   "metadata": {},
   "source": [
    "## Câu 2 (1 điểm)"
   ]
  },
  {
   "cell_type": "markdown",
   "metadata": {},
   "source": [
    "Với câu hỏi 2, M = 10, từ (2) ta có $N \\geq 1300.458$, vậy giá trị tối thiểu của N với $M = 10$ và $\\epsilon = 0.05$ là 1301. **Mình sẽ chọn đáp án gần nhất là c, 1500.**"
   ]
  },
  {
   "cell_type": "markdown",
   "metadata": {
    "deletable": false,
    "nbgrader": {
     "cell_type": "markdown",
     "checksum": "47d4e2bb3e4812ef7b37e032a898cfec",
     "grade": true,
     "grade_id": "c2",
     "locked": false,
     "points": 1,
     "schema_version": 3,
     "solution": true,
     "task": false
    }
   },
   "source": [
    "YOUR ANSWER HERE c"
   ]
  },
  {
   "cell_type": "markdown",
   "metadata": {},
   "source": [
    "## Câu 3 (1 điểm)"
   ]
  },
  {
   "cell_type": "markdown",
   "metadata": {},
   "source": [
    "Với câu hỏi 3, M = 100, từ (2) ta có $N \\geq 1760.975$, vậy giá trị tối thiểu của N với $M = 100$ và $\\epsilon = 0.05$ là 1761. **Mình sẽ chọn đáp án gần nhất là d, 2000.**"
   ]
  },
  {
   "cell_type": "markdown",
   "metadata": {
    "deletable": false,
    "nbgrader": {
     "cell_type": "markdown",
     "checksum": "0997a909d9ab1f250c2bfd0645fee970",
     "grade": true,
     "grade_id": "c3",
     "locked": false,
     "points": 1,
     "schema_version": 3,
     "solution": true,
     "task": false
    }
   },
   "source": [
    "YOUR ANSWER HERE d"
   ]
  },
  {
   "cell_type": "markdown",
   "metadata": {},
   "source": [
    "## Câu 4 (1 điểm)"
   ]
  },
  {
   "cell_type": "markdown",
   "metadata": {},
   "source": [
    "Để chứng minh rõ ràng cho bài tập này thì em chỉ có cách là thể hiện nó qua hình vẽ. Chúng ta sẽ không đề cập qua trường hợp N = 1, 2, 3 vì chúng quá dễ để thực hiện. Mình sẽ chứng minh với N = 4 vẫn có thể vẽ được với Hypothesis là một mặt phẳng trong không gian 3 chiều\n",
    "\n",
    "Với không gian 2 chiều trường hợp N = 4 sẽ là breakpoint vì không thể nào chia ra 2 phần với 4 điểm nằm khác hướng nhau, nhưng với không gian 3 chiều, ta có thể sắp xếp các điểm ở 4 hướng khác nhau, nhưng khác về độ cao, và vẫn có thể sử dụng 1 mặt phẳng để chia được. Nên N = 4 ta vẫn có thể chia ra 2 phần +1 và -1.\n",
    "\n",
    "![ex4-4.png](ex4-4.png)\n",
    "\n",
    "Với N = 5, ta sẽ thấy nếu ta tạo 1 dichotomies như này sẽ không thể nào sử dụng 1 mặt phẳng chia ra được. Và đây chính là breakpoint của bài toán này. **Đáp án mình sẽ chọn là b, 5**\n",
    "\n",
    "![ex4-5.png](ex4-5.png)"
   ]
  },
  {
   "cell_type": "markdown",
   "metadata": {
    "deletable": false,
    "nbgrader": {
     "cell_type": "markdown",
     "checksum": "efabab5c4035a6864ac8cb3e0061c6f0",
     "grade": true,
     "grade_id": "c4",
     "locked": false,
     "points": 1,
     "schema_version": 3,
     "solution": true,
     "task": false
    }
   },
   "source": [
    "YOUR ANSWER HERE"
   ]
  },
  {
   "cell_type": "markdown",
   "metadata": {},
   "source": [
    "## Câu 5 (1 điểm)"
   ]
  },
  {
   "cell_type": "markdown",
   "metadata": {},
   "source": [
    "Chúng ta sẽ xét hết từng hàm $m_H(N)$ và kiểm tra 1 trong 2 trường hợp:\n",
    "\n",
    "- Nếu hàm không có breakpoint thì hàm đó phải bằng $2^N$ $~~~~(1)$\n",
    "\n",
    "- Nếu hàm có breakpoint tại k (nghĩa là $m_H(N) < 2^N$) thì nó phải bị chặn trên bởi 1 hàm đa thức có bậc là k - 1. $~~~~(2)$\n",
    "\n",
    "i) $m_H(N) = 1 + N$, ta có hàm (i) có breakpoint tại 2. Đặt k = 2, ta có :\n",
    "\n",
    "$m_H(2) \\leq 1 + 2 \\leq 1 + k$, ta đã có $m_H(2)$ bị chặn trên bởi 1 hàm số có bậc là 1. Nên (i) là một grow function.\n",
    "\n",
    "ii)$m_H(N) = 1 + N + {N \\choose 2}$, ta có hàm (ii) có breakpoint tại 3. Đặt k = 3, ta có:\n",
    "\n",
    "Ta có $m_H(k) \\leq 1 + 3 + {3 \\choose 2} \\leq 1 + k + \\frac{k\\times(k - 1)}{2} \\leq 1 - \\frac{k}{2} + \\frac{k^2}{2}$, ta đã $m_H(3)$ bị chặn trên bởi 1 hàm có bậc là 2. Nên (ii) là một grow function.\n",
    "\n",
    "iii) $m_H(N) = \\sum_{n=1}^{\\lfloor\\sqrt{N}\\rfloor} {N \\choose i}$ có break point tại 1. Đặt k = 1, ta có:\n",
    "\n",
    "$m_H(k) \\leq \\sum_{n=1}^{\\lfloor\\sqrt{1}\\rfloor} {1 \\choose i} \\leq 1 \\leq k$. Ta có hàm này bị chặn trên bởi 1 hàm đa thức có bậc là 1, nên không thỏa mãn yêu cầu (2), nên (iii) không phải là grow function.\n",
    "\n",
    "iv) $m_H(N) = 2^{\\lfloor\\frac{N}{2}\\rfloor} \\leq 2^N$. Ta dễ dàng nhận ra breakpoint của nó là 1 và $m_H(1) \\leq 2^1$. Hàm này bị chặn trên bởi 1 hàm không phải là đa thức theo N. Nên (iv) không phải là grow function.\n",
    "\n",
    "v) Đây là hàm grow function vì nó không có breakpoint và luôn bằng $2^N$\n",
    "\n",
    "**Vậy đáp án là (i), (ii), (v). Chọn đáp án b**"
   ]
  },
  {
   "cell_type": "markdown",
   "metadata": {
    "deletable": false,
    "nbgrader": {
     "cell_type": "markdown",
     "checksum": "0b484b8390bec96142e8a1213ee8cd2c",
     "grade": true,
     "grade_id": "c5",
     "locked": false,
     "points": 1,
     "schema_version": 3,
     "solution": true,
     "task": false
    }
   },
   "source": [
    "YOUR ANSWER HERE b"
   ]
  },
  {
   "cell_type": "markdown",
   "metadata": {},
   "source": [
    "## Câu 6 (1 điểm)"
   ]
  },
  {
   "cell_type": "markdown",
   "metadata": {},
   "source": [
    "Ta đặt 2 đoạn là $[a_1, b_1]$ và $[a_2, b_2]$, Ta sẽ gặp 1 trường hợp là breakpoint của grow function của bài toán này là:\n",
    "\n",
    "![ex6](ex6.png)"
   ]
  },
  {
   "cell_type": "markdown",
   "metadata": {},
   "source": [
    "Vậy breapoint cho bài toán \"2-interval\" là $N = 5$. **Vậy đáp án sẽ là c, 5.**"
   ]
  },
  {
   "cell_type": "markdown",
   "metadata": {
    "deletable": false,
    "nbgrader": {
     "cell_type": "markdown",
     "checksum": "26f542221236fb24d0ddbee584eed7d0",
     "grade": true,
     "grade_id": "c6",
     "locked": false,
     "points": 1,
     "schema_version": 3,
     "solution": true,
     "task": false
    }
   },
   "source": [
    "YOUR ANSWER HERE c"
   ]
  },
  {
   "cell_type": "markdown",
   "metadata": {},
   "source": [
    "## Câu 7 (1 điểm)"
   ]
  },
  {
   "cell_type": "markdown",
   "metadata": {},
   "source": [
    "Ta cần tìm hàm grow function $m_H(N)$ cho bài toán \"2-interval\". Khá tương tự với bài toán \"1-interval\" mà chúng ta đã giải trong bài học, chúng ta sẽ chia các điểm rời rạc nhau trên trục số (không có 2 số nào trùng vị trí của nhau), và chúng ta sẽ tìm cách đặt 2 khoảng $[a_1, b_1]$ và $[a_2, b_2]$ trong N + 1 khoảng (với N điểm ta có)."
   ]
  },
  {
   "cell_type": "markdown",
   "metadata": {},
   "source": [
    "Ta sẽ chia ra 2 trường hợp:\n",
    "\n",
    "- 2 đoạn $[a_1, b_1]$ và $[a_2, b_2]$ rời nhau, không bị chồng lên nhau. Kết quả sẽ là ${N+1 \\choose 4}$, vì ta sẽ chọn ra 4 vị trí trong N + 1 khoảng để tạo ra 2 đoạn $[a_1, b_1]$ và $[a_2, b_2]$.\n",
    "\n",
    "![ex6-nonoverlap](ex6-nonoverlap.png)\n",
    "\n",
    "- 2 đoạn $[a_1, b_1]$ và $[a_2, b_2]$ bị chồng lên nhau, ta sẽ xem 2 đoạn chồng lên nhau này như là 1 đoạn và cách chọn giống như trong bài toán \"1-interval\", và kết quả của việc chọn 2 vị trí trong N + 1 khoảng là ${N+1 \\choose 2}$\n",
    "\n",
    "![ex6-overlap](ex6-overlap.png)\n",
    "\n",
    "Chú ý ở cách chọn 2 đoạn rời nhau, chúng ta sẽ không chọn vị trí $b_1$ (vị trí cuối của đoạn 1) và $a_2$ (vị trí đầu tiên của đoạn 2) không được nằm chung 1 khoảng nào (trong N + 1 khoảng ta có). \n",
    "\n",
    "Vậy với 2 trường hợp trên, ta đã bao phủ hết các trường hợp có chọn ra các điểm +1 trong N điểm, ta sẽ không quên 1 trường hợp nữa là tất cả các điểm đều là -1 (tức là 2 đoạn không hề phủ 1 điểm nào). Vậy grow function $m_H(N) = {N + 1 \\choose 4} + {N + 1 \\choose 2} + 1$"
   ]
  },
  {
   "cell_type": "markdown",
   "metadata": {},
   "source": [
    "**Kết quả mình sẽ lựa chọn hàm c**"
   ]
  },
  {
   "cell_type": "markdown",
   "metadata": {
    "deletable": false,
    "nbgrader": {
     "cell_type": "markdown",
     "checksum": "322a244b0fae3a20ec568a5099aaaec1",
     "grade": true,
     "grade_id": "c7",
     "locked": false,
     "points": 1,
     "schema_version": 3,
     "solution": true,
     "task": false
    }
   },
   "source": [
    "YOUR ANSWER HERE c"
   ]
  },
  {
   "cell_type": "markdown",
   "metadata": {},
   "source": [
    "## Câu 8 (1 điểm)"
   ]
  },
  {
   "cell_type": "markdown",
   "metadata": {},
   "source": [
    "Ta sẽ xét đến trường hợp tổng quát cho bài toán \"M-interval\", Xét qua các trường hợp \"1-interval\", \"2-interval\", ta sẽ chú ý tới N để cho bài toán có breakpoint:\n",
    "\n",
    "![ex6-pattern](ex6-pattern.png)"
   ]
  },
  {
   "cell_type": "markdown",
   "metadata": {},
   "source": [
    "Ta nhận thấy các trường hợp breakpoint cho bài toán tổng quát \"M-interval\" là sẽ có liên tục $2M$ điểm có giá trị +1 và -1 liên tục nhau, và khi ta thêm 1 điểm có giá trị +1 (tức là cần phải có thêm 1 đoạn nữa để sinh ra kết quả này) thì bài toán \"M-interval\" sẽ có breakpoint.\n",
    "\n",
    "![ex6-breakpoint](ex6-breakpoint.png)"
   ]
  },
  {
   "cell_type": "markdown",
   "metadata": {},
   "source": [
    "**Vậy ta cần 2M + 1 điểm để có breakpoint cho bài toán \"M-interval\", vậy ta sẽ chọn đáp án d**"
   ]
  },
  {
   "cell_type": "markdown",
   "metadata": {
    "deletable": false,
    "nbgrader": {
     "cell_type": "markdown",
     "checksum": "d81773f072cd15e4a27b6cd240a5d990",
     "grade": true,
     "grade_id": "c8",
     "locked": false,
     "points": 1,
     "schema_version": 3,
     "solution": true,
     "task": false
    }
   },
   "source": [
    "YOUR ANSWER HERE d"
   ]
  },
  {
   "cell_type": "markdown",
   "metadata": {},
   "source": [
    "## Câu 9 (1 điểm)"
   ]
  },
  {
   "cell_type": "markdown",
   "metadata": {},
   "source": [
    "Với bài này thì cách sắp xếp các điểm tốt nhất là sắp chúng nằm trên 1 đường tròn, và ở đây mình sẽ thử với trường hợp khó khăn nhất để tạo ra một tam giác thể hiện 1 Hypothesis là các giá trị +1, -1 xen kẽ lẫn nhau. \n",
    "\n",
    "- Với trường hợp N = 1, N = 2, N = 3 có lẽ là khá dễ nhìn ra, mình sẽ không vẽ ra.\n",
    "\n",
    "- Với N = 4, ta sẽ luôn vẽ được 1 tam giác với 3 đỉnh là 2 điểm mang giá trị là +1 và điểm còn lại bất kì, có thể là tâm của đường tròn\n",
    "\n",
    "![triangle4.png](triangle4.png)\n",
    "\n",
    "- Với N = 5, ta sẽ luôn vẽ được 1 tam giác bởi 3 điểm mang dấu +1 (hoặc trường hợp ngược lại với 3 điểm mang dấu -1) trong 5 điểm chúng ta rải trên đường tròn\n",
    "\n",
    "![triangle5.png](triangle5.png)\n",
    "\n",
    "- Với N = 6, chúng ta sẽ áp dụng khá tương tự với N = 5 khi vẽ một tam giác với 3 điểm là mang dấu +1 trong 6 điểm.\n",
    "\n",
    "![triangle6.png](triangle6.png)\n",
    "\n",
    "- Với N = 7, việc sắp đặt các điểm cần 1 chút tính toán, khi trong 4 điểm mang giá trị +1, chúng ta sẽ sắp xếp để tạo ra 1 hình tam giác bằng cách nối dài 2 cạnh như hình vẽ. Ở trường hợp này, chúng ta sẽ lợi dụng việc các điểm xen kẽ nhau nhưng mà khoảng giữa điểm +1 cuối cùng và điểm +1 đầu tiên (theo đúng chiều vòng tròn mà ta sắp) không tồn tại 1 điểm -1 nào, và ta vẫn có thể vẽ được hình tam giác $(*)$.\n",
    "\n",
    "![triangle7.png](triangle7.png)\n",
    "\n",
    "- Với N = 8, chúng ta làm tương tự như với N = 7, nhưng lần này chúng ta phải chia 4 điểm +1 với 4 điểm -1 xen kẽ. Như ở trên, khi thêm 1 điểm -1 với thứ tự xen kẽ các điểm, ta mất đi tính chất $(*)$ có thể khai thác, ta buộc phải thêm 1 giá trị -1 vào giữa điểm +1 cuối cùng và điểm +1 đầu tiene, và đây chính là trường hợp ta không thể chia ra 8 điểm thành 2 tập hợp được.\n",
    "\n",
    "![triangle8.png](triangle8.png)"
   ]
  },
  {
   "cell_type": "markdown",
   "metadata": {},
   "source": [
    "**Vậy trường hợp N lớn nhất mà ta vẫn có thể chia được là N = 7. Vậy đáp án mình chọn là d.**"
   ]
  },
  {
   "cell_type": "markdown",
   "metadata": {
    "deletable": false,
    "nbgrader": {
     "cell_type": "markdown",
     "checksum": "e814a2db0b8a53e4fddfee4bcbf405fc",
     "grade": true,
     "grade_id": "c9",
     "locked": false,
     "points": 1,
     "schema_version": 3,
     "solution": true,
     "task": false
    }
   },
   "source": [
    "YOUR ANSWER HERE d"
   ]
  },
  {
   "cell_type": "markdown",
   "metadata": {},
   "source": [
    "## Câu 10 (1 điểm)"
   ]
  },
  {
   "cell_type": "markdown",
   "metadata": {},
   "source": [
    "Với N điểm trong không gian 2 chiều $\\R^2$ mang giá trị -1 và +1 và những hypothesis được tạo ra với các hình vòng khăn (là phần giữa của 2 đường tròn đồng tâm).\n",
    "\n",
    "Ta định nghĩa 1 điểm $(x_1, x_2)$ mang giá trị là +1 nếu $a^2 \\leq x_1^2 + x_2^2 \\leq b^2$, ngược lại mang giá trị là -1; với a,b là các bán kính của 2 đường tròn $~~(1)$.\n",
    "\n",
    "Chúng ta cần tìm grow function $m_H(N)$ cho bài toán này.\n",
    "\n",
    "Nếu chú ý, ta có thể đặt lại các giá trị cho bài toán, $x_1^2 + x_2^2 = d$, ta hiểu rằng $d$ là giá trị thể hiện cho khoảng cách từ gốc tọa độ $(0, 0)$ tới điểm đó, $x = a^2, y = b^2$. \n",
    "\n",
    "Ta có bài toán (1) trở thành: mỗi điểm dữ liệu thể hiện bằng 1 giá trị $d$, được giới hạn bởi 2 giá trị $x, y$ sao cho điểm dữ liệu đó gán nhãn +1 nếu $x \\leq d \\leq y$. Đây chính là bài toán 1-interval mà chúng ta đã giải.\n",
    "\n",
    "Nên grow function $m_H(N) = {N + 1 \\choose 2} + 1$"
   ]
  },
  {
   "cell_type": "markdown",
   "metadata": {},
   "source": [
    "**Vậy đáp án mình sẽ chọn là b**"
   ]
  },
  {
   "cell_type": "markdown",
   "metadata": {
    "deletable": false,
    "nbgrader": {
     "cell_type": "markdown",
     "checksum": "41cbf5c6d2b94eeae0a712be2181fef6",
     "grade": true,
     "grade_id": "c10",
     "locked": false,
     "points": 1,
     "schema_version": 3,
     "solution": true,
     "task": false
    }
   },
   "source": [
    "YOUR ANSWER HERE b"
   ]
  }
 ],
 "metadata": {
  "kernelspec": {
   "display_name": "Python 3",
   "language": "python",
   "name": "python3"
  },
  "language_info": {
   "codemirror_mode": {
    "name": "ipython",
    "version": 3
   },
   "file_extension": ".py",
   "mimetype": "text/x-python",
   "name": "python",
   "nbconvert_exporter": "python",
   "pygments_lexer": "ipython3",
   "version": "3.6.9"
  },
  "toc": {
   "base_numbering": 1,
   "nav_menu": {},
   "number_sections": true,
   "sideBar": true,
   "skip_h1_title": false,
   "title_cell": "Table of Contents",
   "title_sidebar": "Contents",
   "toc_cell": false,
   "toc_position": {},
   "toc_section_display": true,
   "toc_window_display": false
  },
  "varInspector": {
   "cols": {
    "lenName": 16,
    "lenType": 16,
    "lenVar": 40
   },
   "kernels_config": {
    "python": {
     "delete_cmd_postfix": "",
     "delete_cmd_prefix": "del ",
     "library": "var_list.py",
     "varRefreshCmd": "print(var_dic_list())"
    },
    "r": {
     "delete_cmd_postfix": ") ",
     "delete_cmd_prefix": "rm(",
     "library": "var_list.r",
     "varRefreshCmd": "cat(var_dic_list()) "
    }
   },
   "types_to_exclude": [
    "module",
    "function",
    "builtin_function_or_method",
    "instance",
    "_Feature"
   ],
   "window_display": false
  }
 },
 "nbformat": 4,
 "nbformat_minor": 4
}
