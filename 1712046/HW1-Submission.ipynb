{
 "cells": [
  {
   "cell_type": "markdown",
   "metadata": {},
   "source": [
    "# Bài tập 1\n",
    "\n",
    "Bùi Văn Hợp - 1712046"
   ]
  },
  {
   "cell_type": "markdown",
   "metadata": {},
   "source": [
    "## Câu 1 (1 điểm)"
   ]
  },
  {
   "cell_type": "markdown",
   "metadata": {},
   "source": [
    "Mình lựa chọn đáp án **d**. Dựa vào các điều kiện để áp dụng được Machine Learning: tồn tại quy luật, không thể viết ra dưới dạng toán học, có dữ liệu.\n",
    "* **(i)** **Không áp dụng được Machine Learning** vì chúng ta có thể biết được các quy chuẩn về tiền tệ từ Quỹ tiền tệ Mỹ để phân loại và có các thuật toán để phân loại các đồng xu (vi phạm vào luật thứ 2, vì bài toán có thể quy về 1 thuật toán phân loại đơn giản).\n",
    "* **(ii)** **Là Supervised-Learning**, đây là 1 bài toán có thể áp dụng Machine Learning, vì thỏa mãn 3 điều kiện trên. Chúng ta sẽ không biết được quy chuẩn phân loại tiền tệ, và chỉ có  đồng xu để suy ra cách thức phân loại nó, dựa vào việc thu thập các đồng xu và nhãn của chúng. Nên đây là bài toán Supervised-Learning. \n",
    "* **(iii)** Đây là bài toán dạy cho máy chơi Tic-tac-toe, chúng ta không có 1 mục tiêu xác định, nhưng hiểu rõ về luật chơi để dạy cho máy: những nước đi nào xấu - trừ điểm, những nước đi nào tốt - thưởng điểm. Bài toán này thoạt qua có thể nghĩ là có thể viết được dưới dạng toán học, nhưng dạng toán học này cực kì phức tạp, và có nhiều biến số thay đổi liên tục (nên ta có thể xếp chúng vào \"không thể viết ra dưới dạng toán học\"); tồn tại quy luật thắng - thua, có thể có dữ liệu từ các ván cờ trước; nên ta có thể áp dụng bài toán học vào đây. **Và đây thuộc bài toán Reinforcement Learning** (như đã giải thích ở phần thưởng-phạt)."
   ]
  },
  {
   "cell_type": "markdown",
   "metadata": {
    "deletable": false,
    "nbgrader": {
     "cell_type": "markdown",
     "checksum": "2e83d862b3c5fd4fb57d72c50e8115f8",
     "grade": true,
     "grade_id": "c1",
     "locked": false,
     "points": 1,
     "schema_version": 3,
     "solution": true,
     "task": false
    }
   },
   "source": [
    "YOUR ANSWER HERE d"
   ]
  },
  {
   "cell_type": "markdown",
   "metadata": {
    "heading_collapsed": true
   },
   "source": [
    "## Câu 2 (1 điểm)"
   ]
  },
  {
   "cell_type": "markdown",
   "metadata": {},
   "source": [
    "Mình lựa chọn đáp án **a**.\n",
    "* (i) Chúng ta có thể dựa trên thuật toán tìm số nguyên tố, hoặc sàng nguyên tố Eratosthenes để phân loại. **Không phù hợp để áp dụng Machine Learning**.\n",
    "* (ii) Dự đoán khả năng lừa đảo trong credit card. Chúng ta có thể dựa vào các quy luật của những kẻ lừa đảo, và các dữ liệu của khách hàng hiện tại để đánh giá. **Bài toán này có thể áp dụng Machine Learning**.\n",
    "* (iii) Xác định thời gian rơi của 1 vật. Trong Vật Lý đã có 1 công thức về sự rơi tự do $a = \\frac{1}{2}gt^{2}$, **Bài toán này không phù hợp để áp dụng Machine Learning**\n",
    "* (iv) Xác định các chu kì thời gian tối ưu cho đèn giao thông. Đây có thể là một bài toán áp dụng được Machine Learning dựa vào hình ảnh các loại xe trên đường; ngoài ra dựa vào số lượng, thời gian để đưa ra một thời gian tối ưu thời gian chờ của các loại xe. **Bài toán này có thể áp dụng Machine Learning**"
   ]
  },
  {
   "cell_type": "markdown",
   "metadata": {
    "deletable": false,
    "hidden": true,
    "nbgrader": {
     "cell_type": "markdown",
     "checksum": "47d4e2bb3e4812ef7b37e032a898cfec",
     "grade": true,
     "grade_id": "c2",
     "locked": false,
     "points": 1,
     "schema_version": 3,
     "solution": true,
     "task": false
    }
   },
   "source": [
    "YOUR ANSWER HERE a"
   ]
  },
  {
   "cell_type": "markdown",
   "metadata": {
    "heading_collapsed": true
   },
   "source": [
    "## Câu 3 (1 điểm)"
   ]
  },
  {
   "cell_type": "markdown",
   "metadata": {},
   "source": [
    "Đặt A là sự kiện \"Bốc được 1 bi đen sau khi chọn ngẫu nhiên 1 trong 2 túi và chọn 1 bi từ túi đó\"\n",
    "\n",
    "Ta có $P(A) = \\frac{1}{2} * 1 + \\frac{1}{2} * \\frac{1}{2} = \\frac{3}{4}$\n",
    "\n",
    "Đặt B là sự kiện \"Bốc được 1 bi đen trong cùng 1 túi sau khi đã chọn được 1 viên bi từ trước\"\n",
    "\n",
    "Xác suất ta cần tính là $P(B|A) = \\frac{P(BA)}{P(A)}$\n",
    "\n",
    "P(BA) là xác suất của sự kiện vừa bốc được 2 bi đen => $P(BA) = \\frac{1}{2}$\n",
    "\n",
    "**Vậy $P(B|A) = \\frac{\\frac{1}{2}}{\\frac{3}{4}} = \\frac{2}{3}$**"
   ]
  },
  {
   "cell_type": "markdown",
   "metadata": {
    "deletable": false,
    "hidden": true,
    "nbgrader": {
     "cell_type": "markdown",
     "checksum": "0997a909d9ab1f250c2bfd0645fee970",
     "grade": true,
     "grade_id": "c3",
     "locked": false,
     "points": 1,
     "schema_version": 3,
     "solution": true,
     "task": false
    }
   },
   "source": [
    "YOUR ANSWER HERE d"
   ]
  },
  {
   "cell_type": "markdown",
   "metadata": {
    "heading_collapsed": true
   },
   "source": [
    "## Câu 4 (1 điểm)"
   ]
  },
  {
   "cell_type": "markdown",
   "metadata": {},
   "source": [
    "Xác suất để chúng ta bốc ra 1 bi đỏ là : $\\mu=0.55$\n",
    "\n",
    "Lấy một mẫu gồm 10 viên bi, Xác suất để bốc ra được k bi đỏ tuân theo phân phối nhị thức $B(n = 10, p=\\mu)$\n",
    "\n",
    "Xác suất để $\\nu=0$ hay $P(X = 0) = (1-0.55)^{10} = 3.4 * 10^{-4}$\n",
    "\n",
    "**Vậy xác suất để $\\nu=0$ hay trong mẫu 10 viên bi không có một viên bi đỏ nào là $3.4 * 10^{-4}$**"
   ]
  },
  {
   "cell_type": "markdown",
   "metadata": {
    "deletable": false,
    "hidden": true,
    "nbgrader": {
     "cell_type": "markdown",
     "checksum": "efabab5c4035a6864ac8cb3e0061c6f0",
     "grade": true,
     "grade_id": "c4",
     "locked": false,
     "points": 1,
     "schema_version": 3,
     "solution": true,
     "task": false
    }
   },
   "source": [
    "YOUR ANSWER HERE b"
   ]
  },
  {
   "cell_type": "markdown",
   "metadata": {
    "heading_collapsed": true
   },
   "source": [
    "## Câu 5 (1 điểm)"
   ]
  },
  {
   "cell_type": "markdown",
   "metadata": {},
   "source": [
    "Giả sử ta thực hiện 1,000 mẫu như vậy, mỗi mẫu bốc ra 10 viên bi.\n",
    "\n",
    "Vậy xác suất để ít nhất 1 mẫu có $\\nu=0$ là bao nhiêu ?\n",
    "\n",
    "Từ câu 4, trong 1 mẫu 10 viên bi, ta có thể suy ra $P(\\nu \\neq 0) = 1 - P(\\nu=0)$\n",
    "\n",
    "Gọi A là sự kiện \"Tồn tại ít nhất 1 mẫu có $\\nu=0$\"\n",
    "\n",
    "Vậy $\\overline{A}$ là sự kiện \"Tất cả mẫu đều có $\\nu\\neq0$\"\n",
    "\n",
    "$P(\\overline{A}) = (P(\\nu \\neq 0))^{1000} = (1 - P(\\nu=0))^{1000} = 0.711$\n",
    "\n",
    "Vậy $P(A) = 1 - P(\\overline{A}) = 0.289$"
   ]
  },
  {
   "cell_type": "markdown",
   "metadata": {
    "deletable": false,
    "hidden": true,
    "nbgrader": {
     "cell_type": "markdown",
     "checksum": "0b484b8390bec96142e8a1213ee8cd2c",
     "grade": true,
     "grade_id": "c5",
     "locked": false,
     "points": 1,
     "schema_version": 3,
     "solution": true,
     "task": false
    }
   },
   "source": [
    "YOUR ANSWER HERE c"
   ]
  },
  {
   "cell_type": "markdown",
   "metadata": {
    "heading_collapsed": true
   },
   "source": [
    "## Câu 6 (1 điểm)"
   ]
  },
  {
   "cell_type": "markdown",
   "metadata": {},
   "source": [
    "Ta có các 8 target function (f1 -> f8) có thể có sau khi cho các function \"có vẻ\" khớp với bộ dữ liệu $D$ với 5 mẫu dữ liệu trên, và dưới đây là kết quả của 8 target function đó với các 3 mẫu dữ liệu còn lại 101, 110, 111 như sau:\n",
    "\n",
    "|     \t| f1 \t| f2 \t| f3 \t| f4 \t| f5 \t| f6 \t| f7 \t| f8 \t|\n",
    "|-----\t|----\t|----\t|----\t|----\t|----\t|----\t|----\t|----\t|\n",
    "| 101 \t| 0  \t| 0  \t| 0  \t| 0  \t| 1  \t| 1  \t| 1  \t| 1  \t|\n",
    "| 110 \t| 0  \t| 0  \t| 1  \t| 1  \t| 0  \t| 0  \t| 1  \t| 1  \t|\n",
    "| 111 \t| 0  \t| 1  \t| 0  \t| 1  \t| 0  \t| 1  \t| 0  \t| 1  \t|"
   ]
  },
  {
   "cell_type": "markdown",
   "metadata": {},
   "source": [
    "Với các hàm g được định nghĩa trong các câu từ (a) đến (d), ta có kết quả của các g tương ứng với 3 mẫu dữ liệu còn lại là:\n",
    "\n",
    "|     \t| g[a] \t| g[b] \t| g[c] \t| g[d] \t|\n",
    "|-----\t|------\t|------\t|------\t|------\t|\n",
    "| 101 \t| 1    \t| 0    \t| 0    \t| 1    \t|\n",
    "| 110 \t| 1    \t| 0    \t| 0    \t| 1    \t|\n",
    "| 111 \t| 1    \t| 0    \t| 1    \t| 0    \t|"
   ]
  },
  {
   "cell_type": "markdown",
   "metadata": {},
   "source": [
    "Score được tính từ bài của các g từ câu (a) tới (d) là:\n",
    "\n",
    "|      \t| f1 \t| f2 \t| f3 \t| f4 \t| f5 \t| f6 \t| f7 \t| f8 \t| Score \t|\n",
    "|------\t|----\t|----\t|----\t|----\t|----\t|----\t|----\t|----\t|-------\t|\n",
    "| g[a] \t| 0  \t| +1 \t| +1 \t| +2 \t| +1 \t| +2 \t| +2 \t| +3 \t| 12    \t|\n",
    "| g[b] \t| +3 \t| +2 \t| +2   \t| +1   \t| +2   \t| +1   \t| +1   \t| 0   \t| 12      \t|\n",
    "| g[c] \t| +2   \t| +3   \t| +1   \t| +2   \t| +1   \t| +2   \t| 0   \t| +1   \t| 12      \t|\n",
    "| g[d] \t| +1   \t| 0   \t| +2   \t| +1   \t| +2   \t| +1   \t| +3   \t| +2   \t| 12      \t|\n",
    "\n",
    "Vậy tổng số điểm của mỗi hàm g trong các câu từ (a) tới (d) đều bằng nhau, ta sẽ chọn đáp án **e**."
   ]
  },
  {
   "cell_type": "markdown",
   "metadata": {
    "deletable": false,
    "hidden": true,
    "nbgrader": {
     "cell_type": "markdown",
     "checksum": "26f542221236fb24d0ddbee584eed7d0",
     "grade": true,
     "grade_id": "c6",
     "locked": false,
     "points": 1,
     "schema_version": 3,
     "solution": true,
     "task": false
    }
   },
   "source": [
    "YOUR ANSWER HERE e"
   ]
  },
  {
   "cell_type": "code",
   "execution_count": 1,
   "metadata": {},
   "outputs": [],
   "source": [
    "import numpy as np"
   ]
  },
  {
   "cell_type": "code",
   "execution_count": 2,
   "metadata": {},
   "outputs": [],
   "source": [
    "def generate_target_w():\n",
    "    \"\"\"\n",
    "    Generates target_w (the vector of parameters of f) \n",
    "    from two random, uniformly distributed points in [-1, 1] x [-1, 1].\n",
    "    \n",
    "    Returns\n",
    "    -------\n",
    "    target_w : numpy array, shape (3, 1) \n",
    "        The vector of parameters of f.\n",
    "    \"\"\"\n",
    "    # Generate two points from a uniform distribution over [-1, 1]x[-1, 1]\n",
    "    p1 = np.random.uniform(-1, 1, 2)\n",
    "    p2 = np.random.uniform(-1, 1, 2)\n",
    "    # Compute the target W from these two points\n",
    "    target_w = np.array([p1[1]*p2[0] - p1[0]*p2[1], p2[1] - p1[1], p1[0] - p2[0]]).reshape((-1, 1))\n",
    "    \n",
    "    return target_w"
   ]
  },
  {
   "cell_type": "code",
   "execution_count": 3,
   "metadata": {},
   "outputs": [],
   "source": [
    "def generate_data(N, target_w):\n",
    "    \"\"\"\n",
    "    Generates a data set by generating random inputs and then using target_w to generate the \n",
    "    corresponding outputs.\n",
    "    \n",
    "    Parameters\n",
    "    ----------\n",
    "    N : int\n",
    "        The number of examples.\n",
    "    target_w : numpy array, shape (3, 1) \n",
    "        The vector of parameters of f.\n",
    "    \n",
    "    Returns\n",
    "    -------\n",
    "    X : numpy array, shape (N, 3)\n",
    "        The matrix of input vectors (each row corresponds to an input vector); the first column of \n",
    "        this matrix is all ones.\n",
    "    Y : numpy array, shape (N, 1)\n",
    "        The vector of outputs.        \n",
    "    \"\"\"\n",
    "    bad_data = True # `bad_data = True` means: data contain points on the target line \n",
    "                    # (this rarely happens, but just to be careful)\n",
    "                    # -> y's of these points = 0 (with np.sign); \n",
    "                    #    we don't want this (y's of data must be -1 or 1)\n",
    "                    # -> re-generate data until `bad_data = False`\n",
    "    \n",
    "    while bad_data == True:\n",
    "        X = np.random.uniform(-1, 1, (N, 2))\n",
    "        X = np.hstack((np.ones((N, 1)), X)) # Add 'ones' column\n",
    "        Y = np.sign(np.dot(X, target_w))\n",
    "        if (0 not in Y): # Good data\n",
    "            bad_data = False\n",
    "    \n",
    "    return X, Y"
   ]
  },
  {
   "cell_type": "code",
   "execution_count": 4,
   "metadata": {},
   "outputs": [],
   "source": [
    "def run_PLA(X, Y):\n",
    "    \"\"\"\n",
    "    Runs PLA.\n",
    "    \n",
    "    Parameters\n",
    "    ----------\n",
    "    X : numpy array, shape (N, 3)\n",
    "        The matrix of input vectors (each row corresponds to an input vector); the first column of \n",
    "        this matrix is all ones.\n",
    "    Y : numpy array, shape (N, 1)\n",
    "        The vector of outputs.\n",
    "    \n",
    "    Returns\n",
    "    -------\n",
    "    w : numpy array, shape (3, 1) \n",
    "        The vector of parameters of g.\n",
    "    num_iterations : int\n",
    "        The number of iterations PLA takes to converge.\n",
    "    \"\"\"\n",
    "    w = np.zeros((X.shape[1], 1)) # Init w\n",
    "    iteration = 0\n",
    "    \n",
    "    # TODO\n",
    "    while True:\n",
    "        Y_hat = np.sign(X.dot(w))\n",
    "        x_pos, y_pos = np.where(Y_hat != Y)\n",
    "        if len(x_pos) == 0:\n",
    "            break\n",
    "        random_x = np.random.choice(x_pos)\n",
    "        w = w + Y[random_x, 0] * X[random_x, :].reshape(-1, 1)\n",
    "        iteration += 1\n",
    "          \n",
    "    return w, iteration"
   ]
  },
  {
   "cell_type": "code",
   "execution_count": 5,
   "metadata": {},
   "outputs": [],
   "source": [
    "def main(N): # You don't have to name this function \"main\", you can use other names\n",
    "    \"\"\"\n",
    "    Parameters\n",
    "    ----------\n",
    "    N : int\n",
    "        The number of training examples.\n",
    "    \"\"\"\n",
    "    num_runs = 1000\n",
    "    avg_num_iterations = 0.0 # The average number of iterations PLA takes to converge\n",
    "    avg_test_err = 0.0 # The average test error of g - the final hypothesis picked by PLA\n",
    "    \n",
    "    for r in range(num_runs):\n",
    "        # Generate target_w\n",
    "        target_w = generate_target_w()\n",
    "        \n",
    "        # Generate training set\n",
    "        X, Y = generate_data(N, target_w)\n",
    "        \n",
    "        # Run PLA to pick g\n",
    "        w, num_iterations = run_PLA(X, Y)\n",
    "        \n",
    "        # Generate test set\n",
    "        X_test, Y_test = generate_data(10000, target_w)\n",
    "        \n",
    "        # Test g\n",
    "        test_err = np.mean(np.sign(np.dot(X_test, w)) != Y_test)\n",
    "        \n",
    "        # Update average values\n",
    "        avg_num_iterations += (num_iterations * 1.0 / num_runs)\n",
    "        avg_test_err += (test_err * 1.0 / num_runs)\n",
    "    \n",
    "    # Print results\n",
    "    print('avg_num_iterations = %f' % (avg_num_iterations))\n",
    "    print('avg_test_err = %f' % (avg_test_err))"
   ]
  },
  {
   "cell_type": "markdown",
   "metadata": {
    "heading_collapsed": true
   },
   "source": [
    "## Câu 7 (1 điểm)"
   ]
  },
  {
   "cell_type": "code",
   "execution_count": 6,
   "metadata": {},
   "outputs": [
    {
     "name": "stdout",
     "output_type": "stream",
     "text": [
      "avg_num_iterations = 10.629000\n",
      "avg_test_err = 0.105762\n"
     ]
    }
   ],
   "source": [
    "main(N=10)"
   ]
  },
  {
   "cell_type": "markdown",
   "metadata": {},
   "source": [
    "Dựa vào phần chạy kết quả ở trên, với $N = 10$.\n",
    "\n",
    "**Số lần chạy trung bình dao động trong khoảng từ 9-10, nên mình sẽ lựa chọn đáp án gần nhất là 15, b**"
   ]
  },
  {
   "cell_type": "markdown",
   "metadata": {
    "deletable": false,
    "hidden": true,
    "nbgrader": {
     "cell_type": "markdown",
     "checksum": "322a244b0fae3a20ec568a5099aaaec1",
     "grade": true,
     "grade_id": "c7",
     "locked": false,
     "points": 1,
     "schema_version": 3,
     "solution": true,
     "task": false
    }
   },
   "source": [
    "YOUR ANSWER HERE b"
   ]
  },
  {
   "cell_type": "markdown",
   "metadata": {
    "heading_collapsed": true
   },
   "source": [
    "## Câu 8 (1 điểm)"
   ]
  },
  {
   "cell_type": "markdown",
   "metadata": {},
   "source": [
    "avg_test_err gần với kết quả 0.1 nhất , **nên mình sẽ lựa chọn đáp án gần nhất là 0.1, c**"
   ]
  },
  {
   "cell_type": "markdown",
   "metadata": {
    "deletable": false,
    "hidden": true,
    "nbgrader": {
     "cell_type": "markdown",
     "checksum": "d81773f072cd15e4a27b6cd240a5d990",
     "grade": true,
     "grade_id": "c8",
     "locked": false,
     "points": 1,
     "schema_version": 3,
     "solution": true,
     "task": false
    }
   },
   "source": [
    "YOUR ANSWER HERE c"
   ]
  },
  {
   "cell_type": "markdown",
   "metadata": {
    "heading_collapsed": true
   },
   "source": [
    "## Câu 9 (1 điểm)"
   ]
  },
  {
   "cell_type": "code",
   "execution_count": 7,
   "metadata": {},
   "outputs": [
    {
     "name": "stdout",
     "output_type": "stream",
     "text": [
      "avg_num_iterations = 104.212000\n",
      "avg_test_err = 0.012855\n"
     ]
    }
   ],
   "source": [
    "main(N=100)"
   ]
  },
  {
   "cell_type": "markdown",
   "metadata": {},
   "source": [
    "**Số lần chạy thường dao động trong khoảng từ 100-110 nên mình sẽ chọn đáp án 100, b.**"
   ]
  },
  {
   "cell_type": "markdown",
   "metadata": {
    "deletable": false,
    "hidden": true,
    "nbgrader": {
     "cell_type": "markdown",
     "checksum": "e814a2db0b8a53e4fddfee4bcbf405fc",
     "grade": true,
     "grade_id": "c9",
     "locked": false,
     "points": 1,
     "schema_version": 3,
     "solution": true,
     "task": false
    }
   },
   "source": [
    "YOUR ANSWER HERE b"
   ]
  },
  {
   "cell_type": "markdown",
   "metadata": {},
   "source": [
    "## Câu 10 (1 điểm)"
   ]
  },
  {
   "cell_type": "markdown",
   "metadata": {},
   "source": [
    "**avg_test_err khoảng dao động gần 0.01 trong nhiều lần chạy, nên đáp án mình sẽ chọn là 0.01, b**"
   ]
  },
  {
   "cell_type": "markdown",
   "metadata": {
    "deletable": false,
    "nbgrader": {
     "cell_type": "markdown",
     "checksum": "41cbf5c6d2b94eeae0a712be2181fef6",
     "grade": true,
     "grade_id": "c10",
     "locked": false,
     "points": 1,
     "schema_version": 3,
     "solution": true,
     "task": false
    }
   },
   "source": [
    "YOUR ANSWER HERE b"
   ]
  }
 ],
 "metadata": {
  "kernelspec": {
   "display_name": "Python 3",
   "language": "python",
   "name": "python3"
  },
  "language_info": {
   "codemirror_mode": {
    "name": "ipython",
    "version": 3
   },
   "file_extension": ".py",
   "mimetype": "text/x-python",
   "name": "python",
   "nbconvert_exporter": "python",
   "pygments_lexer": "ipython3",
   "version": "3.6.9"
  },
  "toc": {
   "base_numbering": 1,
   "nav_menu": {},
   "number_sections": true,
   "sideBar": true,
   "skip_h1_title": false,
   "title_cell": "Table of Contents",
   "title_sidebar": "Contents",
   "toc_cell": false,
   "toc_position": {},
   "toc_section_display": true,
   "toc_window_display": false
  },
  "varInspector": {
   "cols": {
    "lenName": 16,
    "lenType": 16,
    "lenVar": 40
   },
   "kernels_config": {
    "python": {
     "delete_cmd_postfix": "",
     "delete_cmd_prefix": "del ",
     "library": "var_list.py",
     "varRefreshCmd": "print(var_dic_list())"
    },
    "r": {
     "delete_cmd_postfix": ") ",
     "delete_cmd_prefix": "rm(",
     "library": "var_list.r",
     "varRefreshCmd": "cat(var_dic_list()) "
    }
   },
   "types_to_exclude": [
    "module",
    "function",
    "builtin_function_or_method",
    "instance",
    "_Feature"
   ],
   "window_display": false
  }
 },
 "nbformat": 4,
 "nbformat_minor": 4
}
