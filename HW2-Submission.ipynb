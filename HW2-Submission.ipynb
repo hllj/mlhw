{
 "cells": [
  {
   "cell_type": "markdown",
   "metadata": {},
   "source": [
    "# Bài tập 2\n",
    "\n",
    "Bùi Văn Hợp - 1712046"
   ]
  },
  {
   "cell_type": "markdown",
   "metadata": {},
   "source": [
    "## Câu 1 (1 điểm)"
   ]
  },
  {
   "cell_type": "code",
   "execution_count": 1,
   "metadata": {},
   "outputs": [],
   "source": [
    "import numpy as np\n",
    "\n",
    "def hoeffding_inequality(nu, mu, N, eps):\n",
    "    left_ine = 1 if (abs(nu - mu) > eps) else 0\n",
    "    right_ine = 2 * np.exp(-2 * eps**2 * N)\n",
    "    return (left_ine <= right_ine)\n",
    "\n",
    "def hoeffding_check(nu, mu, N):\n",
    "    eps_range = np.arange(0.01, 0.51, 0.01)\n",
    "    for eps in eps_range:\n",
    "        if (hoeffding_inequality(nu, mu, N, eps) == False):\n",
    "            return False\n",
    "    return True\n",
    "\n",
    "def run_stimulation(n_test, n_coin, n_times):\n",
    "    nus = np.random.binomial(n_times, 0.5, (n_test, n_coin)) / n_times\n",
    "    v_1 = np.mean(nus[:, 0])\n",
    "    pos_rand = np.random.choice(n_coin, size=n_test)\n",
    "    v_rand = np.mean(nus[np.arange(n_test), pos_rand])\n",
    "    v_min = np.mean(np.min(nus, axis=1))\n",
    "    print(\"v_1 = \", v_1)\n",
    "    print(\"v_rand = \", v_rand)\n",
    "    print(\"v_)min = \", v_min)\n",
    "    print(\"Checking Hoeffding inequality for v_1 : \", hoeffding_check(v_1, 0.5, 10))\n",
    "    print(\"Checking Hoeffding inequality for v_rand : \", hoeffding_check(v_rand, 0.5, 10))\n",
    "    print(\"Checking Hoeffding inequality for v_min : \", hoeffding_check(v_min, 0.5, 10))\n"
   ]
  },
  {
   "cell_type": "code",
   "execution_count": 2,
   "metadata": {},
   "outputs": [
    {
     "name": "stdout",
     "output_type": "stream",
     "text": [
      "v_1 =  0.5002099999999998\n",
      "v_rand =  0.500507\n",
      "v_)min =  0.037512\n",
      "Checking Hoeffding inequality for v_1 :  True\n",
      "Checking Hoeffding inequality for v_rand :  True\n",
      "Checking Hoeffding inequality for v_min :  False\n"
     ]
    }
   ],
   "source": [
    "run_stimulation(n_test=100000, n_coin=1000, n_times=10)"
   ]
  },
  {
   "cell_type": "markdown",
   "metadata": {},
   "source": [
    "Từ kết quả chạy giả lập, $\\nu_{min}$ xấp xỉ khoảng 0.0375, nên mình **chọn đáp án là b, 0.01**."
   ]
  },
  {
   "cell_type": "markdown",
   "metadata": {
    "deletable": false,
    "nbgrader": {
     "cell_type": "markdown",
     "checksum": "2e83d862b3c5fd4fb57d72c50e8115f8",
     "grade": true,
     "grade_id": "c1",
     "locked": false,
     "points": 1,
     "schema_version": 3,
     "solution": true,
     "task": false
    }
   },
   "source": [
    "YOUR ANSWER HERE b"
   ]
  },
  {
   "cell_type": "markdown",
   "metadata": {},
   "source": [
    "## Câu 2 (1 điểm)"
   ]
  },
  {
   "cell_type": "markdown",
   "metadata": {},
   "source": [
    "Trong hàm chạy giả lập, mình cho thử bất đẳng thức Hoeffding với khoảng các giá trị $\\epsilon$ trong khoảng từ 0.01 đến 0.5. Kết quả nhận được là $\\nu_1$ và $\\nu_{rand}$ tuân theo bất đẳng thức Hoeffding, còn $\\nu_{min}$ không tuân theo bất đẳng thức. Nên mình sẽ chọn đáp án **d, c1 và crand**"
   ]
  },
  {
   "cell_type": "markdown",
   "metadata": {},
   "source": [
    "**Giải thích thêm về toán học:**\n",
    "\n",
    "- Ta biết rằng mỗi đồng xu trong 1000 đồng xu đều độc lập với nhau, và việc ta tung mỗi đồng xu 10 lần cũng là những sự kiện độc lập với nhau.\n",
    "\n",
    "- Vậy nên $c_1$ (có xác suất ra mặt sấp là $\\nu_1$) là cách ta chọn đồng xu thứ nhất (duy nhất 1 đồng xu) trong 1000 đồng xu, và tung nó 10 lần, nên nó sẽ luôn tuân theo bất đẳng thức Hoeffding (cho 1 bin duy nhất).\n",
    "\n",
    "- Với $c_{rand}$ (có xác suất ra mặt sấp là $\\nu{rand}$), ở trên ta đã biết mỗi đồng xu là độc lập với nhau, nên việc trong 10000 lần, ta chọn ngẫu nhiên 1 đồng xu, cũng giống như việc chọn 1 đồng xu cố định. Nên $\\nu_{rand}$ cũng sẽ phù hợp với bất đẳng thức.\n",
    "\n",
    "- Riêng $c_{min}$, vì ta có chủ đích chọn đồng xu có xác suất ra mặt sấp trong 10 lần nhỏ nhất, nên nó sẽ theo 1 phân phối khác so với cách chọn đồng xu trên. \n",
    "\n",
    "**Ta sẽ hiểu bài toán này theo 1 cách khác như sau,**, mỗi đồng xu là 1 bin, và việc tung đồng xu 10 lần là cách chúng ta lấy 10 sample trong bin đó. Và chúng ta sẽ có 1000 bin.\n",
    "\n",
    "Giả sử ta cần tìm $P(\\nu_{min}) = 0$, với $\\mu_{min} = 0.5$ (Vì đây là 1 đồng xu đồng chất xác suất sấp-ngửa bằng nhau).\n",
    "\n",
    "Với bài tập lần trước, ta dễ dàng tính ra $P(\\nu_{min}) = 1 - (1 - 0.5^{10})^{1000} \\approx 0.62$\n",
    "\n",
    "Ta có bất đẳng thức Hoeffding áp dụng cho đồng xu này như sau:\n",
    "\n",
    "$P(|\\nu_{min} - \\mu_{min}| > \\epsilon) \\leq 2e^{-2\\epsilon^2 N}$\n",
    "\n",
    "Ta đặt $\\epsilon = 0.49$, ta có $P(|\\nu_{min} - \\mu_{min}| > \\epsilon) = P(|0 - 0.5| > 0.49)$\n",
    "\n",
    "$\\Rightarrow P(\\nu_{min}) = 0.62 \\leq 2e^{-2\\epsilon^2 N} \\leq 0.016$ **(vô lý)**\n",
    "\n",
    "Nên đồng xu $c_{min}$ sẽ không tuân theo bất đẳng thức Hoeffding.\n"
   ]
  },
  {
   "cell_type": "markdown",
   "metadata": {
    "deletable": false,
    "nbgrader": {
     "cell_type": "markdown",
     "checksum": "47d4e2bb3e4812ef7b37e032a898cfec",
     "grade": true,
     "grade_id": "c2",
     "locked": false,
     "points": 1,
     "schema_version": 3,
     "solution": true,
     "task": false
    }
   },
   "source": [
    "YOUR ANSWER HERE d"
   ]
  },
  {
   "cell_type": "markdown",
   "metadata": {},
   "source": [
    "## Câu 3 (1 điểm)"
   ]
  },
  {
   "cell_type": "markdown",
   "metadata": {},
   "source": [
    "Từ bài toán ta biết được xác suất để hypothesis $h$ sai so với target function $f(x)$ là $\\mu$\n",
    "\n",
    "Vậy ta có: $P(h(x) \\neq f(x)) = \\mu, P(h(x) = f(x)) = 1 - \\mu$\n",
    "\n",
    "Với nhãn $y$ có một độ lỗi nhất định so với target function $f(x)$, ta suy ra từ bài:\n",
    "\n",
    "$P(y = f(x)) = \\lambda, P(y \\neq f(x)) = 1 - \\lambda$\n",
    "\n",
    "Ta cần tìm giá trị của $P(h(x) \\neq y)$ , ta sẽ sử dụng xác suất điều kiện với 2 điều kiện như sau:\n",
    "\n",
    "- Nếu $h(x) \\neq f(x)$, thì ta cần $y = f(x)$ để thỏa mãn điều kiện $h(x) \\neq y$.\n",
    "\n",
    "- Nếu $h(x) = f(x)$, thì ta cần điều kiện $y \\neq f(x)$ để thỏa mãn điều kiện $h(x) \\neq y$.\n",
    "\n",
    "Từ đó ta có, $P(h(x) \\neq y) = P(h(x) \\neq f(x) | y = f(x)) \\times P(y = f(x) + P(h(x) = f(x) | y \\neq f(x)) \\times P(y \\neq f(x))$\n",
    "\n",
    " $P(h(x) \\neq y) = \\mu\\lambda + (1 - \\mu)(1 - \\lambda)$\n",
    " \n",
    " **Nên mình sẽ lựa chọn đáp án e**"
   ]
  },
  {
   "cell_type": "markdown",
   "metadata": {
    "deletable": false,
    "nbgrader": {
     "cell_type": "markdown",
     "checksum": "0997a909d9ab1f250c2bfd0645fee970",
     "grade": true,
     "grade_id": "c3",
     "locked": false,
     "points": 1,
     "schema_version": 3,
     "solution": true,
     "task": false
    }
   },
   "source": [
    "YOUR ANSWER HERE e"
   ]
  },
  {
   "cell_type": "markdown",
   "metadata": {},
   "source": [
    "## Câu 4 (1 điểm)"
   ]
  },
  {
   "cell_type": "markdown",
   "metadata": {},
   "source": [
    "Từ kết quả của câu trên, ta có  $P(h(x) \\neq y) = \\mu\\lambda + (1 - \\mu)(1 - \\lambda) = 2\\mu\\lambda - \\mu - 1 - \\lambda$\n",
    "\n",
    "$P(h(x) \\neq y) = \\mu(2\\lambda - 1) + 1 - \\lambda$\n",
    "\n",
    "Vậy để $P(h(x) \\neq y)$ không phụ thuộc vào $\\mu$, ta cần có $2\\lambda - 1 = 0 \\Rightarrow \\lambda = 0.5$\n",
    "\n",
    "**Vậy mình sẽ chọn đáp án b, 0.5.**"
   ]
  },
  {
   "cell_type": "markdown",
   "metadata": {
    "deletable": false,
    "nbgrader": {
     "cell_type": "markdown",
     "checksum": "efabab5c4035a6864ac8cb3e0061c6f0",
     "grade": true,
     "grade_id": "c4",
     "locked": false,
     "points": 1,
     "schema_version": 3,
     "solution": true,
     "task": false
    }
   },
   "source": [
    "YOUR ANSWER HERE b"
   ]
  },
  {
   "cell_type": "markdown",
   "metadata": {},
   "source": [
    "## Câu 5 (1 điểm)"
   ]
  },
  {
   "cell_type": "code",
   "execution_count": 3,
   "metadata": {},
   "outputs": [],
   "source": [
    "def generate_target_w():\n",
    "    \"\"\"\n",
    "    Generates target_w (the vector of parameters of f) \n",
    "    from two random, uniformly distributed points in [-1, 1] x [-1, 1].\n",
    "    \n",
    "    Returns\n",
    "    -------\n",
    "    target_w : numpy array, shape (3, 1) \n",
    "        The vector of parameters of f.\n",
    "    \"\"\"\n",
    "    # Generate two points from a uniform distribution over [-1, 1]x[-1, 1]\n",
    "    p1 = np.random.uniform(-1, 1, 2)\n",
    "    p2 = np.random.uniform(-1, 1, 2)\n",
    "    # Compute the target W from these two points\n",
    "    target_w = np.array([p1[1]*p2[0] - p1[0]*p2[1], p2[1] - p1[1], p1[0] - p2[0]]).reshape((-1, 1))\n",
    "    \n",
    "    return target_w"
   ]
  },
  {
   "cell_type": "code",
   "execution_count": 4,
   "metadata": {},
   "outputs": [],
   "source": [
    "def generate_data(N, target_w):\n",
    "    \"\"\"\n",
    "    Generates a data set by generating random inputs and then using target_w to generate the \n",
    "    corresponding outputs.\n",
    "    \n",
    "    Parameters\n",
    "    ----------\n",
    "    N : int\n",
    "        The number of examples.\n",
    "    target_w : numpy array, shape (3, 1) \n",
    "        The vector of parameters of f.\n",
    "    \n",
    "    Returns\n",
    "    -------\n",
    "    X : numpy array, shape (N, 3)\n",
    "        The matrix of input vectors (each row corresponds to an input vector); the first column of \n",
    "        this matrix is all ones.\n",
    "    Y : numpy array, shape (N, 1)\n",
    "        The vector of outputs.        \n",
    "    \"\"\"\n",
    "    bad_data = True # `bad_data = True` means: data contain points on the target line \n",
    "                    # (this rarely happens, but just to be careful)\n",
    "                    # -> y's of these points = 0 (with np.sign); \n",
    "                    #    we don't want this (y's of data must be -1 or 1)\n",
    "                    # -> re-generate data until `bad_data = False`\n",
    "    \n",
    "    while bad_data == True:\n",
    "        X = np.random.uniform(-1, 1, (N, 2))\n",
    "        X = np.hstack((np.ones((N, 1)), X)) # Add 'ones' column\n",
    "        Y = np.sign(np.dot(X, target_w))\n",
    "        if (0 not in Y): # Good data\n",
    "            bad_data = False\n",
    "    \n",
    "    return X, Y"
   ]
  },
  {
   "cell_type": "code",
   "execution_count": 5,
   "metadata": {},
   "outputs": [],
   "source": [
    "def run_linear_regression(X, Y):\n",
    "    X_dagger = np.dot(np.linalg.pinv(np.dot(X.T, X)), X.T)\n",
    "    w = np.dot(X_dagger, Y)\n",
    "    return w"
   ]
  },
  {
   "cell_type": "code",
   "execution_count": 9,
   "metadata": {},
   "outputs": [],
   "source": [
    "def main(N):\n",
    "    num_run = 1000\n",
    "    avg_error_in = 0.0\n",
    "    avg_error_out = 0.0\n",
    "    for _ in range(num_run):\n",
    "        target_w = generate_target_w()\n",
    "        X, Y = generate_data(N, target_w)\n",
    "        w = run_linear_regression(X, Y)\n",
    "        \n",
    "        error_in = np.mean(np.sign(np.dot(X, w)) != Y)\n",
    "        avg_error_in += error_in\n",
    "        \n",
    "        X_test, Y_test = generate_data(1000, target_w)\n",
    "        error_out = np.mean(np.sign(np.dot(X_test, w)) != Y_test)\n",
    "        avg_error_out += error_out\n",
    "    \n",
    "    avg_error_in /= num_run\n",
    "    avg_error_out /= num_run\n",
    "    print(\"Avg Error in : \", avg_error_in)\n",
    "    print(\"Avg Error out : \", avg_error_out)"
   ]
  },
  {
   "cell_type": "code",
   "execution_count": 11,
   "metadata": {},
   "outputs": [
    {
     "name": "stdout",
     "output_type": "stream",
     "text": [
      "Avg Error in :  0.03848000000000006\n",
      "Avg Error out :  0.046965000000000055\n"
     ]
    }
   ],
   "source": [
    "main(N=100)"
   ]
  },
  {
   "cell_type": "markdown",
   "metadata": {},
   "source": [
    "Từ kết quả Độ lỗi trung bình của tập train (Error_in) khoảng 0.03, **nên mình sẽ chọn đáp án gần nhất là c, 0.01**"
   ]
  },
  {
   "cell_type": "markdown",
   "metadata": {
    "deletable": false,
    "nbgrader": {
     "cell_type": "markdown",
     "checksum": "0b484b8390bec96142e8a1213ee8cd2c",
     "grade": true,
     "grade_id": "c5",
     "locked": false,
     "points": 1,
     "schema_version": 3,
     "solution": true,
     "task": false
    }
   },
   "source": [
    "YOUR ANSWER HERE c"
   ]
  },
  {
   "cell_type": "markdown",
   "metadata": {},
   "source": [
    "## Câu 6 (1 điểm)"
   ]
  },
  {
   "cell_type": "markdown",
   "metadata": {},
   "source": [
    "Cũng với hàm trên, Độ lỗi trung bình của tập test (Error_out) lớn hơn Error_in một chút, những cũng xấp xỉ 0.04, **nên mình chọn đáp án gần nhất cũng là c, 0.01**"
   ]
  },
  {
   "cell_type": "markdown",
   "metadata": {
    "deletable": false,
    "nbgrader": {
     "cell_type": "markdown",
     "checksum": "26f542221236fb24d0ddbee584eed7d0",
     "grade": true,
     "grade_id": "c6",
     "locked": false,
     "points": 1,
     "schema_version": 3,
     "solution": true,
     "task": false
    }
   },
   "source": [
    "YOUR ANSWER HERE c"
   ]
  },
  {
   "cell_type": "markdown",
   "metadata": {},
   "source": [
    "## Câu 7 (1 điểm)"
   ]
  },
  {
   "cell_type": "code",
   "execution_count": 13,
   "metadata": {},
   "outputs": [],
   "source": [
    "def run_PLA(X, Y, w):\n",
    "    iteration = 0\n",
    "    while True:\n",
    "        Y_hat = np.sign(X.dot(w))\n",
    "        x_pos, y_pos = np.where(Y_hat != Y)\n",
    "        if len(x_pos) == 0:\n",
    "            break\n",
    "        random_x = np.random.choice(x_pos)\n",
    "        w = w + Y[random_x, 0] * X[random_x, :].reshape(-1, 1)\n",
    "        iteration += 1\n",
    "          \n",
    "    return w, iteration"
   ]
  },
  {
   "cell_type": "code",
   "execution_count": 15,
   "metadata": {},
   "outputs": [],
   "source": [
    "def main_PLA_linear_regression(N):\n",
    "    num_run = 1000\n",
    "    avg_error_in = 0.0\n",
    "    avg_error_out = 0.0\n",
    "    avg_iteration = 0.0\n",
    "    for _ in range(num_run):\n",
    "        target_w = generate_target_w()\n",
    "        X, Y = generate_data(N, target_w)\n",
    "        w = run_linear_regression(X, Y)\n",
    "        w, iteration = run_PLA(X, Y, w)\n",
    "        \n",
    "        avg_iteration += iteration\n",
    "        \n",
    "        error_in = np.mean(np.sign(np.dot(X, w)) != Y)\n",
    "        avg_error_in += error_in\n",
    "        \n",
    "        X_test, Y_test = generate_data(1000, target_w)\n",
    "        error_out = np.mean(np.sign(np.dot(X_test, w)) != Y_test)\n",
    "        avg_error_out += error_out\n",
    "    \n",
    "    avg_error_in /= num_run\n",
    "    avg_error_out /= num_run\n",
    "    avg_iteration /= num_run\n",
    "    print(\"Avg Error in : \", avg_error_in)\n",
    "    print(\"Avg Error out : \", avg_error_out)\n",
    "    print(\"Avg Iteration: \", avg_iteration)"
   ]
  },
  {
   "cell_type": "code",
   "execution_count": 19,
   "metadata": {},
   "outputs": [
    {
     "name": "stdout",
     "output_type": "stream",
     "text": [
      "Avg Error in :  0.0\n",
      "Avg Error out :  0.09812799999999997\n",
      "Avg Iteration:  4.366\n"
     ]
    }
   ],
   "source": [
    "main_PLA_linear_regression(N=10)"
   ]
  },
  {
   "cell_type": "markdown",
   "metadata": {},
   "source": [
    "Sau khi áp dụng Linear Regression và tiếp tục cho vào thuật toán PLA để tìm ra hypothesis thì trung bình số lần lặp là khoảng 4 -> 5. **Nên mình sẽ chọn đáp án gần nhất là a, 1.**"
   ]
  },
  {
   "cell_type": "markdown",
   "metadata": {
    "deletable": false,
    "nbgrader": {
     "cell_type": "markdown",
     "checksum": "322a244b0fae3a20ec568a5099aaaec1",
     "grade": true,
     "grade_id": "c7",
     "locked": false,
     "points": 1,
     "schema_version": 3,
     "solution": true,
     "task": false
    }
   },
   "source": [
    "YOUR ANSWER HERE a"
   ]
  },
  {
   "cell_type": "markdown",
   "metadata": {},
   "source": [
    "## Câu 8 (1 điểm)"
   ]
  },
  {
   "cell_type": "markdown",
   "metadata": {
    "deletable": false,
    "nbgrader": {
     "cell_type": "markdown",
     "checksum": "d81773f072cd15e4a27b6cd240a5d990",
     "grade": true,
     "grade_id": "c8",
     "locked": false,
     "points": 1,
     "schema_version": 3,
     "solution": true,
     "task": false
    }
   },
   "source": [
    "YOUR ANSWER HERE"
   ]
  },
  {
   "cell_type": "markdown",
   "metadata": {},
   "source": [
    "## Câu 9 (1 điểm)"
   ]
  },
  {
   "cell_type": "markdown",
   "metadata": {
    "deletable": false,
    "nbgrader": {
     "cell_type": "markdown",
     "checksum": "e814a2db0b8a53e4fddfee4bcbf405fc",
     "grade": true,
     "grade_id": "c9",
     "locked": false,
     "points": 1,
     "schema_version": 3,
     "solution": true,
     "task": false
    }
   },
   "source": [
    "YOUR ANSWER HERE"
   ]
  },
  {
   "cell_type": "markdown",
   "metadata": {},
   "source": [
    "## Câu 10 (1 điểm)"
   ]
  },
  {
   "cell_type": "markdown",
   "metadata": {
    "deletable": false,
    "nbgrader": {
     "cell_type": "markdown",
     "checksum": "41cbf5c6d2b94eeae0a712be2181fef6",
     "grade": true,
     "grade_id": "c10",
     "locked": false,
     "points": 1,
     "schema_version": 3,
     "solution": true,
     "task": false
    }
   },
   "source": [
    "YOUR ANSWER HERE"
   ]
  }
 ],
 "metadata": {
  "kernelspec": {
   "display_name": "Python 3",
   "language": "python",
   "name": "python3"
  },
  "language_info": {
   "codemirror_mode": {
    "name": "ipython",
    "version": 3
   },
   "file_extension": ".py",
   "mimetype": "text/x-python",
   "name": "python",
   "nbconvert_exporter": "python",
   "pygments_lexer": "ipython3",
   "version": "3.6.9"
  },
  "toc": {
   "base_numbering": 1,
   "nav_menu": {},
   "number_sections": true,
   "sideBar": true,
   "skip_h1_title": false,
   "title_cell": "Table of Contents",
   "title_sidebar": "Contents",
   "toc_cell": false,
   "toc_position": {},
   "toc_section_display": true,
   "toc_window_display": false
  },
  "varInspector": {
   "cols": {
    "lenName": 16,
    "lenType": 16,
    "lenVar": 40
   },
   "kernels_config": {
    "python": {
     "delete_cmd_postfix": "",
     "delete_cmd_prefix": "del ",
     "library": "var_list.py",
     "varRefreshCmd": "print(var_dic_list())"
    },
    "r": {
     "delete_cmd_postfix": ") ",
     "delete_cmd_prefix": "rm(",
     "library": "var_list.r",
     "varRefreshCmd": "cat(var_dic_list()) "
    }
   },
   "types_to_exclude": [
    "module",
    "function",
    "builtin_function_or_method",
    "instance",
    "_Feature"
   ],
   "window_display": false
  }
 },
 "nbformat": 4,
 "nbformat_minor": 4
}
