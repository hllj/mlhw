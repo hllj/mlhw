{
 "cells": [
  {
   "cell_type": "markdown",
   "metadata": {},
   "source": [
    "# Bài tập 4\n",
    "\n",
    "Bùi Văn Hợp - 1712046"
   ]
  },
  {
   "cell_type": "markdown",
   "metadata": {},
   "source": [
    "## Câu 1 (1 điểm)"
   ]
  },
  {
   "cell_type": "markdown",
   "metadata": {},
   "source": [
    "Với $H$ có $d_{VC} = 10$. Chúng ta muốn độ lỗi $\\epsilon$ tối đa 0.05 với 95% độ tin cậy. Từ công thức của bất đẳng thức VC ta có:\n",
    "\n",
    "$P(|E_{in} - E_{out}| > \\epsilon) <= 4m_H(2N)e^{\\frac{-1}{8}\\epsilon^2N}$\n",
    "\n",
    "Với $\\delta = 4m_H(2N)e^{\\frac{-1}{8}\\epsilon^2N} = 1 - 0.95 = 0.05 ~~~~ (1)$\n",
    "\n",
    "Ta lại có $m_H(2N) = (2N)^{d_{VC}} = (2N)^{10}$\n",
    "\n",
    "(1) Suy ra: $0.05 = 4(2N)^{10}e^{\\frac{-1}{8}0.05^2N} ~~~~ (2)$\n",
    "\n",
    "Giải (2) ra ta có $N = -0.322594$ hoặc $N = 0.322601$ hoặc $N = 452957$\n",
    "\n",
    "Với bài toán này giá trị $N = 452957$ là hợp lí nhất, nên đây là nghiệm của bài 1. **Nên mình sẽ lựa chọn đáp án gần nhất là d, 460000**"
   ]
  },
  {
   "cell_type": "markdown",
   "metadata": {
    "deletable": false,
    "nbgrader": {
     "cell_type": "markdown",
     "checksum": "2e83d862b3c5fd4fb57d72c50e8115f8",
     "grade": true,
     "grade_id": "c1",
     "locked": false,
     "points": 1,
     "schema_version": 3,
     "solution": true,
     "task": false
    }
   },
   "source": [
    "YOUR ANSWER HERE d"
   ]
  },
  {
   "cell_type": "markdown",
   "metadata": {},
   "source": [
    "## Câu 2 (1 điểm)"
   ]
  },
  {
   "cell_type": "markdown",
   "metadata": {},
   "source": [
    "Từ 4 ràng buộc cho những generation error của 4 câu [a], [b], [c], [d]. Với câu hỏi 2, $d_{VC} = 50, \\delta = 0.05$\n",
    "\n",
    "Với ràng buộc [a], $\\epsilon \\leq \\sqrt{\\frac{8}{N}\\ln{\\frac{4m_H(2N)}{\\delta}}} \\leq \\sqrt{\\frac{8}{N}(\\ln{4} + \\ln{m_H(2N)} - \\ln{\\delta})} \\leq \\sqrt{\\frac{8}{N}(\\ln{4} + \\ln{(2N)^{50}} - \\ln{\\delta})} \\leq \\sqrt{\\frac{8}{N}(\\ln{4} + 50\\ln{(2N)} - \\ln{\\delta})}$\n",
    "\n",
    "Với ràng buộc [b], $\\epsilon \\leq \\sqrt{\\frac{2\\ln{(2Nm_H(N))}}{N}} + \\sqrt{\\frac{2}{N}\\ln{\\frac{1}{\\delta}}} + \\frac{1}{N} \\leq \\sqrt{\\frac{2}{N}\\times \\ln{(2Nm_H(N))}} + \\sqrt{\\frac{2}{N}ln(\\frac{1}{\\delta})} + \\frac{1}{N} \\leq \\sqrt{\\frac{2}{N}\\times \\ln{(2N\\times N^{50})}} + \\sqrt{\\frac{2}{N}ln(\\frac{1}{\\delta})} + \\frac{1}{N} \\leq \\sqrt{\\frac{2}{N}\\times (\\ln{2} + 51\\ln{(N)})} + \\sqrt{\\frac{2}{N}ln(\\frac{1}{\\delta})} + \\frac{1}{N}$\n",
    "\n",
    "Với ràng buộc [c], $\\epsilon \\leq \\sqrt{\\frac{1}{N}(2\\epsilon + \\ln{(\\frac{6m_H(2N)}{\\delta})})}$\n",
    "\n",
    "Vì cả 2 vế đều dương nên ta có thể bình phương cả 2 vế, ta có:\n",
    "$\\epsilon^2 \\leq \\frac{1}{N}(2\\epsilon + \\ln{(\\frac{6\\times(2N)^{50}}{\\delta})})$\n",
    "\n",
    "$\\iff\\epsilon^2 \\leq \\frac{1}{N}(2\\epsilon + \\ln{6} + 50\\ln{(2N)} - \\ln{\\delta})$\n",
    "\n",
    "$\\iff\\epsilon^2 \\leq \\frac{1}{N}(2\\epsilon + A)$ với $A = \\ln{6} + 50\\ln{(2N)} - \\ln{\\delta}$\n",
    "\n",
    "$\\iff\\epsilon^2 - \\frac{1}{N}\\times 2\\epsilon - \\frac{1}{N}\\times A \\leq 0$ với $A = \\ln{6} + 50\\ln{(2N)} - \\ln{\\delta}$\n",
    "\n",
    "Với ràng buộc [d], $\\epsilon \\leq \\sqrt{\\frac{1}{2N}(4\\epsilon(1 + \\epsilon) + \\ln{\\frac{4m_H(N^2}{\\delta}})} \\leq \\sqrt{\\frac{1}{2N}(4\\epsilon + 4\\epsilon^2 + \\ln{\\frac{4(N^2)^{50}}{\\delta}})} \\leq \\sqrt{\\frac{1}{2N}(4\\epsilon + 4\\epsilon^2 + \\ln{4} + 50\\ln{(N^2)} - \\ln{\\delta})}$\n",
    "\n",
    "Vì cả 2 vế đều dương nên ta có thể bình phương cả 2 vế, ta có:\n",
    "\n",
    "$\\iff\\epsilon^2 \\leq \\frac{1}{2N}(4\\epsilon + 4\\epsilon^2 + B)$ với $B = \\ln{4} + 50\\ln{(N^2)} - \\ln{\\delta}$\n",
    "\n",
    "$\\iff\\epsilon^2 - \\frac{2\\epsilon}{N} - \\frac{2\\epsilon^2}{N} - \\frac{B}{2N} \\leq 0$\n",
    "\n",
    "$\\iff(1 - \\frac{2}{N})\\epsilon^2 - \\frac{2\\epsilon}{N} - \\frac{B}{2N} \\leq 0$"
   ]
  },
  {
   "cell_type": "markdown",
   "metadata": {},
   "source": [
    "Với câu 2, N khá lớn với $N = 10000$. Ta cần giải ra các $\\epsilon$ tương ứng với các ràng buộc cho $\\epsilon$.\n",
    "\n",
    "**Với [a]**, $\\epsilon \\leq 0.63$\n",
    "\n",
    "**Với [b]**, $\\epsilon \\leq 0.33$\n",
    "\n",
    "**Với [c]**, $\\epsilon^2 - \\frac{1}{N}\\times 2\\epsilon - \\frac{1}{N}\\times A \\leq 0$ với $A = \\ln{6} + 50\\ln{(2N)} - \\ln{\\delta}$\n",
    "\n",
    "Giải phương trình $\\epsilon^2 - \\frac{1}{N}\\times 2\\epsilon - \\frac{1}{N}\\times A = 0 \\iff \\epsilon_1 = -0.2235, \\epsilon_2 = 0.2237$\n",
    "\n",
    "Vậy giải bất phương trình [c] với $\\epsilon_1, \\epsilon_2$, ta có:\n",
    "\n",
    "$\\epsilon_1 \\leq \\epsilon \\leq \\epsilon_2, \\epsilon \\geq 0 \\iff 0 \\leq \\epsilon \\leq \\epsilon_2 \\iff 0 \\leq \\epsilon \\leq 0.2237$\n",
    "\n",
    "**Với [d]**, $(1 - \\frac{2}{N})\\epsilon^2 - \\frac{2\\epsilon}{N} - \\frac{B}{2N} \\leq 0$ với $B = \\ln{4} + 50\\ln{(N^2)} - \\ln{\\delta}$\n",
    "\n",
    "Giải phương trình $(1 - \\frac{2}{N})\\epsilon^2 - \\frac{2\\epsilon}{N} - \\frac{B}{2N} = 0 \\iff \\epsilon_1 = -0.2150, \\epsilon_2 = 0.2152$\n",
    "\n",
    "Vậy giải bất phương trình [d] với $\\epsilon_1, \\epsilon_2$, ta có:\n",
    "\n",
    "$\\epsilon_1 \\leq \\epsilon \\leq \\epsilon_2, \\epsilon \\geq 0 \\iff 0 \\leq \\epsilon \\leq 0.2152$\n",
    "\n",
    "Vậy ta chọn đáp án d, do $\\epsilon$ ràng buộc ở bất đẳng thức d nhỏ nhất là 0.2152."
   ]
  },
  {
   "cell_type": "markdown",
   "metadata": {
    "deletable": false,
    "nbgrader": {
     "cell_type": "markdown",
     "checksum": "47d4e2bb3e4812ef7b37e032a898cfec",
     "grade": true,
     "grade_id": "c2",
     "locked": false,
     "points": 1,
     "schema_version": 3,
     "solution": true,
     "task": false
    }
   },
   "source": [
    "YOUR ANSWER HERE d"
   ]
  },
  {
   "cell_type": "markdown",
   "metadata": {},
   "source": [
    "## Câu 3 (1 điểm)"
   ]
  },
  {
   "cell_type": "markdown",
   "metadata": {},
   "source": [
    "Tương tự với câu 2, nhưng ta thử với 1 số N nhỏ ở đây $N = 5$. Ta sẽ tính lại ràng buộc cho $\\epsilon$ cho từng bất phương trình, ta có:\n",
    "\n",
    "**Với [a]**, $\\epsilon \\leq 13.82$\n",
    "\n",
    "**Với [b]**, $\\epsilon \\leq 7.0487$\n",
    "\n",
    "**Với [c]**, Tương tự như trên, ta sẽ giải ra $0 \\leq \\epsilon \\leq 5.1014$\n",
    "\n",
    "**Với [d]**, ta giải ra $0 \\leq \\epsilon \\leq 5.5931$.\n",
    "\n",
    "Vậy ta sẽ chọn đáp án c, do $\\epsilon$ ràng buộc ở bất đẳng thức c là nhỏ nhất là 5.1014."
   ]
  },
  {
   "cell_type": "markdown",
   "metadata": {
    "deletable": false,
    "nbgrader": {
     "cell_type": "markdown",
     "checksum": "0997a909d9ab1f250c2bfd0645fee970",
     "grade": true,
     "grade_id": "c3",
     "locked": false,
     "points": 1,
     "schema_version": 3,
     "solution": true,
     "task": false
    }
   },
   "source": [
    "YOUR ANSWER HERE c"
   ]
  },
  {
   "cell_type": "markdown",
   "metadata": {},
   "source": [
    "## Câu 4 (1 điểm)"
   ]
  },
  {
   "cell_type": "code",
   "execution_count": 1,
   "metadata": {},
   "outputs": [],
   "source": [
    "import numpy as np\n",
    "import matplotlib.pyplot as plt\n",
    "%matplotlib inline"
   ]
  },
  {
   "cell_type": "code",
   "execution_count": 2,
   "metadata": {},
   "outputs": [],
   "source": [
    "def generate_data(N):\n",
    "    X = np.random.uniform(-1, 1, (N, 1))\n",
    "    Y = np.sin(np.pi * X)\n",
    "    return X, Y"
   ]
  },
  {
   "cell_type": "code",
   "execution_count": 3,
   "metadata": {},
   "outputs": [
    {
     "name": "stdout",
     "output_type": "stream",
     "text": [
      "[[-0.61912715]\n",
      " [-0.940716  ]]\n",
      "[[-0.93078243]\n",
      " [-0.1851713 ]]\n"
     ]
    }
   ],
   "source": [
    "X, Y = generate_data(2)\n",
    "print(X)\n",
    "print(Y)"
   ]
  },
  {
   "cell_type": "code",
   "execution_count": 4,
   "metadata": {},
   "outputs": [
    {
     "data": {
      "text/plain": [
       "[<matplotlib.lines.Line2D at 0x7fed9fcdb940>]"
      ]
     },
     "execution_count": 4,
     "metadata": {},
     "output_type": "execute_result"
    },
    {
     "data": {
      "image/png": "[encoded data removed]",
      "text/plain": [
       "<Figure size 432x288 with 1 Axes>"
      ]
     },
     "metadata": {
      "needs_background": "light"
     },
     "output_type": "display_data"
    }
   ],
   "source": [
    "xx = np.arange(-1, 1, 0.01).reshape(-1, 1)\n",
    "yy = np.sin(np.pi * xx)\n",
    "plt.plot(xx, yy, color=\"black\")\n",
    "plt.plot(X, Y, \"o\", color=\"blue\")"
   ]
  },
  {
   "cell_type": "code",
   "execution_count": 5,
   "metadata": {},
   "outputs": [],
   "source": [
    "def run_linear_regression(X, Y):\n",
    "    X_dagger = np.dot(np.linalg.pinv(np.dot(X.T, X)), X.T)\n",
    "    w = np.dot(X_dagger, Y)\n",
    "    return w"
   ]
  },
  {
   "cell_type": "code",
   "execution_count": 6,
   "metadata": {},
   "outputs": [],
   "source": [
    "def calculate_g_bar(D_length, degree, is_bias_param=True):\n",
    "    n_param = 0\n",
    "    if is_bias_param == True:\n",
    "        n_param += 1\n",
    "    if degree >= 1:\n",
    "        n_param += 1\n",
    "    g_bar = np.zeros((n_param, 1))\n",
    "    D_g = [] #save all hypothesis g\n",
    "    for i in range(D_length):\n",
    "        X, Y = generate_data(2)\n",
    "        if degree == 0:\n",
    "            X = np.ones((2, 1))\n",
    "        else:\n",
    "            X = X**degree\n",
    "            if is_bias_param == True:\n",
    "                X = np.hstack((np.ones((2, 1)), X))\n",
    "        # calculate g hypothesis\n",
    "        g = run_linear_regression(X, Y)\n",
    "        D_g.append(g)\n",
    "        g_bar += g\n",
    "    g_bar /= D_length\n",
    "    return g_bar, D_g"
   ]
  },
  {
   "cell_type": "code",
   "execution_count": 7,
   "metadata": {},
   "outputs": [],
   "source": [
    "def calculate_bias(g, degree, is_bias_param=True):\n",
    "    N = 10000\n",
    "    X, Y = generate_data(N)\n",
    "    if degree == 0:\n",
    "        X = np.ones((N, 1))\n",
    "    else:\n",
    "        X = X**degree\n",
    "        if is_bias_param == True:\n",
    "            X = np.hstack((np.ones((N, 1)), X))\n",
    "    return np.mean((np.dot(X, g) - Y)**2)"
   ]
  },
  {
   "cell_type": "code",
   "execution_count": 8,
   "metadata": {},
   "outputs": [],
   "source": [
    "def calculate_variance(g_bar, D_length, D_g, degree, is_bias_param=True):\n",
    "    N = 10000\n",
    "    X, Y = generate_data(N)\n",
    "    if degree == 0:\n",
    "        X = np.ones((N, 1))\n",
    "    else:\n",
    "        X = X**degree\n",
    "        if is_bias_param == True:\n",
    "            X = np.hstack((np.ones((N, 1)), X))\n",
    "    var = 0\n",
    "    for g in D_g:\n",
    "        var += np.mean((np.dot(X, g) - np.dot(X, g_bar))**2)\n",
    "    var /= D_length\n",
    "    return var"
   ]
  },
  {
   "cell_type": "code",
   "execution_count": 9,
   "metadata": {},
   "outputs": [
    {
     "name": "stdout",
     "output_type": "stream",
     "text": [
      "Average Hypothesis for h(x) = ax :  [[1.41544756]]\n",
      "Bias :  0.26771420677271823\n",
      "Variance :  0.23448454948919667\n"
     ]
    }
   ],
   "source": [
    "D_length = 10000\n",
    "g_bar, D_g = calculate_g_bar(D_length, 1, False)\n",
    "bias = calculate_bias(g_bar, 1, False)\n",
    "var = calculate_variance(g_bar, D_length, D_g, 1, False)\n",
    "print(\"Average Hypothesis for h(x) = ax : \",g_bar)\n",
    "print(\"Bias : \", bias)\n",
    "print(\"Variance : \", var)"
   ]
  },
  {
   "cell_type": "markdown",
   "metadata": {},
   "source": [
    "Sau khi chạy thử để tính g_bar là Average Hypothesis thì ta có tham số a sau khi làm tròn là 1.42. **Không có kết quả nào giống nên mình chọn đáp án [e]**"
   ]
  },
  {
   "cell_type": "markdown",
   "metadata": {
    "deletable": false,
    "nbgrader": {
     "cell_type": "markdown",
     "checksum": "efabab5c4035a6864ac8cb3e0061c6f0",
     "grade": true,
     "grade_id": "c4",
     "locked": false,
     "points": 1,
     "schema_version": 3,
     "solution": true,
     "task": false
    }
   },
   "source": [
    "YOUR ANSWER HERE e"
   ]
  },
  {
   "cell_type": "markdown",
   "metadata": {},
   "source": [
    "## Câu 5 (1 điểm)"
   ]
  },
  {
   "cell_type": "markdown",
   "metadata": {},
   "source": [
    "Hàm tính bias của là calculate_bias(g) để tính bias của 1 hàm g_bar so với f(x). **Kết quả của bias cho bài toán trên xấp xỉ 0.27. Nên mình sẽ chọn đáp án là b, 0.3.**"
   ]
  },
  {
   "cell_type": "markdown",
   "metadata": {
    "deletable": false,
    "nbgrader": {
     "cell_type": "markdown",
     "checksum": "0b484b8390bec96142e8a1213ee8cd2c",
     "grade": true,
     "grade_id": "c5",
     "locked": false,
     "points": 1,
     "schema_version": 3,
     "solution": true,
     "task": false
    }
   },
   "source": [
    "YOUR ANSWER HERE b"
   ]
  },
  {
   "cell_type": "markdown",
   "metadata": {},
   "source": [
    "## Câu 6 (1 điểm)"
   ]
  },
  {
   "cell_type": "markdown",
   "metadata": {},
   "source": [
    "Hàm tính variance là calculate_variance(g_bar, D_x, D_g) với các tham số là g_bar, D_x là tập hợp các data X, D_g là tập các hypothesis tương ứng với D_x. **Kết quả variance cho bài toán trên xấp xỉ 0.23. Nên mình sẽ chọn đáp án là a, 0.2**."
   ]
  },
  {
   "cell_type": "markdown",
   "metadata": {
    "deletable": false,
    "nbgrader": {
     "cell_type": "markdown",
     "checksum": "26f542221236fb24d0ddbee584eed7d0",
     "grade": true,
     "grade_id": "c6",
     "locked": false,
     "points": 1,
     "schema_version": 3,
     "solution": true,
     "task": false
    }
   },
   "source": [
    "YOUR ANSWER HERE a"
   ]
  },
  {
   "cell_type": "markdown",
   "metadata": {},
   "source": [
    "## Câu 7 (1 điểm)"
   ]
  },
  {
   "cell_type": "code",
   "execution_count": 10,
   "metadata": {},
   "outputs": [
    {
     "name": "stdout",
     "output_type": "stream",
     "text": [
      "h(x) = b\n",
      "Average Hypothesis for h(x) = b :  [[-0.00073792]]\n",
      "Bias :  0.499754098989227\n",
      "Variance :  0.24738559368454485\n",
      "E_out :  0.7471396926737719\n"
     ]
    }
   ],
   "source": [
    "D_length = 10000\n",
    "g_bar_a, D_g_a = calculate_g_bar(D_length, 0, True)\n",
    "print(\"h(x) = b\")\n",
    "bias_a = calculate_bias(g_bar_a, 0, True)\n",
    "var_a = calculate_variance(g_bar_a, D_length, D_g_a, 0, True)\n",
    "print(\"Average Hypothesis for h(x) = b : \",g_bar_a)\n",
    "print(\"Bias : \", bias_a)\n",
    "print(\"Variance : \", var_a)\n",
    "print(\"E_out : \", bias_a + var_a)"
   ]
  },
  {
   "cell_type": "code",
   "execution_count": 11,
   "metadata": {},
   "outputs": [
    {
     "name": "stdout",
     "output_type": "stream",
     "text": [
      "h(x) = ax\n",
      "Average Hypothesis for h(x) = ax :  [[1.43161929]]\n",
      "Bias :  0.27772840106748187\n",
      "Variance :  0.23391992442296755\n",
      "E_out :  0.5116483254904494\n"
     ]
    }
   ],
   "source": [
    "D_length = 10000\n",
    "g_bar_b, D_g_b = calculate_g_bar(D_length, 1, False)\n",
    "print(\"h(x) = ax\")\n",
    "bias_b = calculate_bias(g_bar_b, 1, False)\n",
    "var_b = calculate_variance(g_bar_b, D_length, D_g_b, 1, False)\n",
    "print(\"Average Hypothesis for h(x) = ax : \",g_bar_b)\n",
    "print(\"Bias : \", bias_b)\n",
    "print(\"Variance : \", var_b)\n",
    "print(\"E_out : \", bias_b + var_b)"
   ]
  },
  {
   "cell_type": "code",
   "execution_count": 12,
   "metadata": {},
   "outputs": [
    {
     "name": "stdout",
     "output_type": "stream",
     "text": [
      "h(x) = ax + b\n",
      "Average Hypothesis for h(x) = ax + b:  [[0.00644362]\n",
      " [0.78233612]]\n",
      "Bias :  0.20768709044358602\n",
      "Variance :  1.6372014722795536\n",
      "E_out :  1.8448885627231397\n"
     ]
    }
   ],
   "source": [
    "D_length = 10000\n",
    "g_bar_c, D_g_c = calculate_g_bar(D_length, 1, True)\n",
    "print(\"h(x) = ax + b\")\n",
    "bias_c = calculate_bias(g_bar_c, 1, True)\n",
    "var_c = calculate_variance(g_bar_c, D_length, D_g_c, 1, True)\n",
    "print(\"Average Hypothesis for h(x) = ax + b: \",g_bar_c)\n",
    "print(\"Bias : \", bias_c)\n",
    "print(\"Variance : \", var_c)\n",
    "print(\"E_out : \", bias_c + var_c)"
   ]
  },
  {
   "cell_type": "code",
   "execution_count": 13,
   "metadata": {},
   "outputs": [
    {
     "name": "stdout",
     "output_type": "stream",
     "text": [
      "h(x) = ax^2\n",
      "Average Hypothesis for h(x) = ax^2:  [[0.01637239]]\n",
      "Bias :  0.5000179204658143\n",
      "Variance :  9.000923104490173\n",
      "E_out :  9.500941024955987\n"
     ]
    }
   ],
   "source": [
    "D_length = 10000\n",
    "g_bar_d, D_g_d = calculate_g_bar(D_length, 2, False)\n",
    "print(\"h(x) = ax^2\")\n",
    "bias_d = calculate_bias(g_bar_d, 2, False)\n",
    "var_d = calculate_variance(g_bar_d, D_length, D_g_d, 2, False)\n",
    "print(\"Average Hypothesis for h(x) = ax^2: \",g_bar_d)\n",
    "print(\"Bias : \", bias_d)\n",
    "print(\"Variance : \", var_d)\n",
    "print(\"E_out : \", bias_d + var_d)"
   ]
  },
  {
   "cell_type": "code",
   "execution_count": 14,
   "metadata": {},
   "outputs": [
    {
     "name": "stdout",
     "output_type": "stream",
     "text": [
      "h(x) = ax^2 + b\n",
      "Average Hypothesis for h(x) = ax^2 + b:  [[-0.28102444]\n",
      " [ 0.86226471]]\n",
      "Bias :  0.5733377068964606\n",
      "Variance :  2195.3607181147104\n",
      "E_out :  2195.9340558216068\n"
     ]
    }
   ],
   "source": [
    "D_length = 10000\n",
    "g_bar_e, D_g_e = calculate_g_bar(D_length, 2, True)\n",
    "print(\"h(x) = ax^2 + b\")\n",
    "bias_e = calculate_bias(g_bar_e, 2, True)\n",
    "var_e = calculate_variance(g_bar_e, D_length, D_g_e, 2, True)\n",
    "print(\"Average Hypothesis for h(x) = ax^2 + b: \",g_bar_e)\n",
    "print(\"Bias : \", bias_e)\n",
    "print(\"Variance : \", var_e)\n",
    "print(\"E_out : \", bias_e + var_e)"
   ]
  },
  {
   "cell_type": "markdown",
   "metadata": {},
   "source": [
    "Sau khi chạy thử thay đổi các loại Hypothesis từ a tới e.\n",
    "\n",
    "**Ta cần chọn ra loại Hypothesis cho $E_{out}$ nhỏ nhất, vậy ta chọn hàm b. Đáp án của mình là b.**"
   ]
  },
  {
   "cell_type": "markdown",
   "metadata": {
    "deletable": false,
    "nbgrader": {
     "cell_type": "markdown",
     "checksum": "322a244b0fae3a20ec568a5099aaaec1",
     "grade": true,
     "grade_id": "c7",
     "locked": false,
     "points": 1,
     "schema_version": 3,
     "solution": true,
     "task": false
    }
   },
   "source": [
    "YOUR ANSWER HERE b"
   ]
  },
  {
   "cell_type": "markdown",
   "metadata": {},
   "source": [
    "## Câu 8 (1 điểm)"
   ]
  },
  {
   "cell_type": "markdown",
   "metadata": {
    "deletable": false,
    "nbgrader": {
     "cell_type": "markdown",
     "checksum": "d81773f072cd15e4a27b6cd240a5d990",
     "grade": true,
     "grade_id": "c8",
     "locked": false,
     "points": 1,
     "schema_version": 3,
     "solution": true,
     "task": false
    }
   },
   "source": [
    "YOUR ANSWER HERE"
   ]
  },
  {
   "cell_type": "markdown",
   "metadata": {},
   "source": [
    "## Câu 9 (1 điểm)"
   ]
  },
  {
   "cell_type": "markdown",
   "metadata": {
    "deletable": false,
    "nbgrader": {
     "cell_type": "markdown",
     "checksum": "e814a2db0b8a53e4fddfee4bcbf405fc",
     "grade": true,
     "grade_id": "c9",
     "locked": false,
     "points": 1,
     "schema_version": 3,
     "solution": true,
     "task": false
    }
   },
   "source": [
    "YOUR ANSWER HERE"
   ]
  },
  {
   "cell_type": "markdown",
   "metadata": {},
   "source": [
    "## Câu 10 (1 điểm)"
   ]
  },
  {
   "cell_type": "markdown",
   "metadata": {
    "deletable": false,
    "nbgrader": {
     "cell_type": "markdown",
     "checksum": "41cbf5c6d2b94eeae0a712be2181fef6",
     "grade": true,
     "grade_id": "c10",
     "locked": false,
     "points": 1,
     "schema_version": 3,
     "solution": true,
     "task": false
    }
   },
   "source": [
    "YOUR ANSWER HERE"
   ]
  }
 ],
 "metadata": {
  "kernelspec": {
   "display_name": "Python 3",
   "language": "python",
   "name": "python3"
  },
  "language_info": {
   "codemirror_mode": {
    "name": "ipython",
    "version": 3
   },
   "file_extension": ".py",
   "mimetype": "text/x-python",
   "name": "python",
   "nbconvert_exporter": "python",
   "pygments_lexer": "ipython3",
   "version": "3.6.9"
  },
  "toc": {
   "base_numbering": 1,
   "nav_menu": {},
   "number_sections": true,
   "sideBar": true,
   "skip_h1_title": false,
   "title_cell": "Table of Contents",
   "title_sidebar": "Contents",
   "toc_cell": false,
   "toc_position": {},
   "toc_section_display": true,
   "toc_window_display": false
  },
  "varInspector": {
   "cols": {
    "lenName": 16,
    "lenType": 16,
    "lenVar": 40
   },
   "kernels_config": {
    "python": {
     "delete_cmd_postfix": "",
     "delete_cmd_prefix": "del ",
     "library": "var_list.py",
     "varRefreshCmd": "print(var_dic_list())"
    },
    "r": {
     "delete_cmd_postfix": ") ",
     "delete_cmd_prefix": "rm(",
     "library": "var_list.r",
     "varRefreshCmd": "cat(var_dic_list()) "
    }
   },
   "types_to_exclude": [
    "module",
    "function",
    "builtin_function_or_method",
    "instance",
    "_Feature"
   ],
   "window_display": false
  }
 },
 "nbformat": 4,
 "nbformat_minor": 4
}
